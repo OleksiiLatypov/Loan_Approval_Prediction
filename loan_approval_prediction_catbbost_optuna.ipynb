{
 "cells": [
  {
   "cell_type": "code",
   "execution_count": 1,
   "id": "6777ddd4",
   "metadata": {
    "_cell_guid": "b1076dfc-b9ad-4769-8c92-a6c4dae69d19",
    "_uuid": "8f2839f25d086af736a60e9eeb907d3b93b6e0e5",
    "execution": {
     "iopub.execute_input": "2024-10-14T13:29:07.728544Z",
     "iopub.status.busy": "2024-10-14T13:29:07.728008Z",
     "iopub.status.idle": "2024-10-14T13:29:10.684542Z",
     "shell.execute_reply": "2024-10-14T13:29:10.682893Z"
    },
    "papermill": {
     "duration": 2.978109,
     "end_time": "2024-10-14T13:29:10.687818",
     "exception": false,
     "start_time": "2024-10-14T13:29:07.709709",
     "status": "completed"
    },
    "tags": []
   },
   "outputs": [
    {
     "name": "stdout",
     "output_type": "stream",
     "text": [
      "/kaggle/input/credit-risk/credit_risk_dataset.csv\n",
      "/kaggle/input/playground-series-s4e10/sample_submission.csv\n",
      "/kaggle/input/playground-series-s4e10/train.csv\n",
      "/kaggle/input/playground-series-s4e10/test.csv\n"
     ]
    }
   ],
   "source": [
    "# This Python 3 environment comes with many helpful analytics libraries installed\n",
    "# It is defined by the kaggle/python Docker image: https://github.com/kaggle/docker-python\n",
    "# For example, here's several helpful packages to load\n",
    "\n",
    "import numpy as np # linear algebra\n",
    "import pandas as pd # data processing, CSV file I/O (e.g. pd.read_csv)\n",
    "import seaborn as sns\n",
    "import matplotlib.pyplot as plt\n",
    "from sklearn.model_selection import train_test_split\n",
    "# Input data files are available in the read-only \"../input/\" directory\n",
    "# For example, running this (by clicking run or pressing Shift+Enter) will list all files under the input directory\n",
    "\n",
    "import os\n",
    "for dirname, _, filenames in os.walk('/kaggle/input'):\n",
    "    for filename in filenames:\n",
    "        print(os.path.join(dirname, filename))\n",
    "\n",
    "# You can write up to 20GB to the current directory (/kaggle/working/) that gets preserved as output when you create a version using \"Save & Run All\" \n",
    "# You can also write temporary files to /kaggle/temp/, but they won't be saved outside of the current session"
   ]
  },
  {
   "cell_type": "code",
   "execution_count": 2,
   "id": "88d8d400",
   "metadata": {
    "execution": {
     "iopub.execute_input": "2024-10-14T13:29:10.721612Z",
     "iopub.status.busy": "2024-10-14T13:29:10.721031Z",
     "iopub.status.idle": "2024-10-14T13:29:11.023829Z",
     "shell.execute_reply": "2024-10-14T13:29:11.022442Z"
    },
    "papermill": {
     "duration": 0.322554,
     "end_time": "2024-10-14T13:29:11.026899",
     "exception": false,
     "start_time": "2024-10-14T13:29:10.704345",
     "status": "completed"
    },
    "tags": []
   },
   "outputs": [],
   "source": [
    "train = pd.read_csv('/kaggle/input/playground-series-s4e10/train.csv')\n",
    "test = pd.read_csv('/kaggle/input/playground-series-s4e10/test.csv')\n",
    "original = pd.read_csv('/kaggle/input/credit-risk/credit_risk_dataset.csv')"
   ]
  },
  {
   "cell_type": "code",
   "execution_count": 3,
   "id": "e3b5fe56",
   "metadata": {
    "execution": {
     "iopub.execute_input": "2024-10-14T13:29:11.057185Z",
     "iopub.status.busy": "2024-10-14T13:29:11.056604Z",
     "iopub.status.idle": "2024-10-14T13:29:11.063749Z",
     "shell.execute_reply": "2024-10-14T13:29:11.062102Z"
    },
    "papermill": {
     "duration": 0.025605,
     "end_time": "2024-10-14T13:29:11.066783",
     "exception": false,
     "start_time": "2024-10-14T13:29:11.041178",
     "status": "completed"
    },
    "tags": []
   },
   "outputs": [
    {
     "name": "stdout",
     "output_type": "stream",
     "text": [
      "(58645, 13)\n",
      "(39098, 12)\n",
      "(32581, 12)\n"
     ]
    }
   ],
   "source": [
    "print(train.shape)\n",
    "print(test.shape)\n",
    "print(original.shape)"
   ]
  },
  {
   "cell_type": "code",
   "execution_count": 4,
   "id": "d29b7704",
   "metadata": {
    "execution": {
     "iopub.execute_input": "2024-10-14T13:29:11.097998Z",
     "iopub.status.busy": "2024-10-14T13:29:11.097434Z",
     "iopub.status.idle": "2024-10-14T13:29:11.120513Z",
     "shell.execute_reply": "2024-10-14T13:29:11.119413Z"
    },
    "papermill": {
     "duration": 0.041031,
     "end_time": "2024-10-14T13:29:11.122971",
     "exception": false,
     "start_time": "2024-10-14T13:29:11.081940",
     "status": "completed"
    },
    "tags": []
   },
   "outputs": [
    {
     "data": {
      "text/plain": [
       "loan_status\n",
       "0    50295\n",
       "1     8350\n",
       "Name: count, dtype: int64"
      ]
     },
     "execution_count": 4,
     "metadata": {},
     "output_type": "execute_result"
    }
   ],
   "source": [
    "train.loan_status.value_counts()"
   ]
  },
  {
   "cell_type": "code",
   "execution_count": 5,
   "id": "352f394b",
   "metadata": {
    "execution": {
     "iopub.execute_input": "2024-10-14T13:29:11.154546Z",
     "iopub.status.busy": "2024-10-14T13:29:11.154117Z",
     "iopub.status.idle": "2024-10-14T13:29:11.177955Z",
     "shell.execute_reply": "2024-10-14T13:29:11.176897Z"
    },
    "papermill": {
     "duration": 0.042873,
     "end_time": "2024-10-14T13:29:11.180398",
     "exception": false,
     "start_time": "2024-10-14T13:29:11.137525",
     "status": "completed"
    },
    "tags": []
   },
   "outputs": [
    {
     "data": {
      "text/html": [
       "<div>\n",
       "<style scoped>\n",
       "    .dataframe tbody tr th:only-of-type {\n",
       "        vertical-align: middle;\n",
       "    }\n",
       "\n",
       "    .dataframe tbody tr th {\n",
       "        vertical-align: top;\n",
       "    }\n",
       "\n",
       "    .dataframe thead th {\n",
       "        text-align: right;\n",
       "    }\n",
       "</style>\n",
       "<table border=\"1\" class=\"dataframe\">\n",
       "  <thead>\n",
       "    <tr style=\"text-align: right;\">\n",
       "      <th></th>\n",
       "      <th>person_age</th>\n",
       "      <th>person_income</th>\n",
       "      <th>person_home_ownership</th>\n",
       "      <th>person_emp_length</th>\n",
       "      <th>loan_intent</th>\n",
       "      <th>loan_grade</th>\n",
       "      <th>loan_amnt</th>\n",
       "      <th>loan_int_rate</th>\n",
       "      <th>loan_status</th>\n",
       "      <th>loan_percent_income</th>\n",
       "      <th>cb_person_default_on_file</th>\n",
       "      <th>cb_person_cred_hist_length</th>\n",
       "    </tr>\n",
       "  </thead>\n",
       "  <tbody>\n",
       "    <tr>\n",
       "      <th>0</th>\n",
       "      <td>22</td>\n",
       "      <td>59000</td>\n",
       "      <td>RENT</td>\n",
       "      <td>123.0</td>\n",
       "      <td>PERSONAL</td>\n",
       "      <td>D</td>\n",
       "      <td>35000</td>\n",
       "      <td>16.02</td>\n",
       "      <td>1</td>\n",
       "      <td>0.59</td>\n",
       "      <td>Y</td>\n",
       "      <td>3</td>\n",
       "    </tr>\n",
       "    <tr>\n",
       "      <th>1</th>\n",
       "      <td>21</td>\n",
       "      <td>9600</td>\n",
       "      <td>OWN</td>\n",
       "      <td>5.0</td>\n",
       "      <td>EDUCATION</td>\n",
       "      <td>B</td>\n",
       "      <td>1000</td>\n",
       "      <td>11.14</td>\n",
       "      <td>0</td>\n",
       "      <td>0.10</td>\n",
       "      <td>N</td>\n",
       "      <td>2</td>\n",
       "    </tr>\n",
       "    <tr>\n",
       "      <th>2</th>\n",
       "      <td>25</td>\n",
       "      <td>9600</td>\n",
       "      <td>MORTGAGE</td>\n",
       "      <td>1.0</td>\n",
       "      <td>MEDICAL</td>\n",
       "      <td>C</td>\n",
       "      <td>5500</td>\n",
       "      <td>12.87</td>\n",
       "      <td>1</td>\n",
       "      <td>0.57</td>\n",
       "      <td>N</td>\n",
       "      <td>3</td>\n",
       "    </tr>\n",
       "    <tr>\n",
       "      <th>3</th>\n",
       "      <td>23</td>\n",
       "      <td>65500</td>\n",
       "      <td>RENT</td>\n",
       "      <td>4.0</td>\n",
       "      <td>MEDICAL</td>\n",
       "      <td>C</td>\n",
       "      <td>35000</td>\n",
       "      <td>15.23</td>\n",
       "      <td>1</td>\n",
       "      <td>0.53</td>\n",
       "      <td>N</td>\n",
       "      <td>2</td>\n",
       "    </tr>\n",
       "    <tr>\n",
       "      <th>4</th>\n",
       "      <td>24</td>\n",
       "      <td>54400</td>\n",
       "      <td>RENT</td>\n",
       "      <td>8.0</td>\n",
       "      <td>MEDICAL</td>\n",
       "      <td>C</td>\n",
       "      <td>35000</td>\n",
       "      <td>14.27</td>\n",
       "      <td>1</td>\n",
       "      <td>0.55</td>\n",
       "      <td>Y</td>\n",
       "      <td>4</td>\n",
       "    </tr>\n",
       "  </tbody>\n",
       "</table>\n",
       "</div>"
      ],
      "text/plain": [
       "   person_age  person_income person_home_ownership  person_emp_length  \\\n",
       "0          22          59000                  RENT              123.0   \n",
       "1          21           9600                   OWN                5.0   \n",
       "2          25           9600              MORTGAGE                1.0   \n",
       "3          23          65500                  RENT                4.0   \n",
       "4          24          54400                  RENT                8.0   \n",
       "\n",
       "  loan_intent loan_grade  loan_amnt  loan_int_rate  loan_status  \\\n",
       "0    PERSONAL          D      35000          16.02            1   \n",
       "1   EDUCATION          B       1000          11.14            0   \n",
       "2     MEDICAL          C       5500          12.87            1   \n",
       "3     MEDICAL          C      35000          15.23            1   \n",
       "4     MEDICAL          C      35000          14.27            1   \n",
       "\n",
       "   loan_percent_income cb_person_default_on_file  cb_person_cred_hist_length  \n",
       "0                 0.59                         Y                           3  \n",
       "1                 0.10                         N                           2  \n",
       "2                 0.57                         N                           3  \n",
       "3                 0.53                         N                           2  \n",
       "4                 0.55                         Y                           4  "
      ]
     },
     "execution_count": 5,
     "metadata": {},
     "output_type": "execute_result"
    }
   ],
   "source": [
    "original.head()"
   ]
  },
  {
   "cell_type": "code",
   "execution_count": 6,
   "id": "4a84094a",
   "metadata": {
    "execution": {
     "iopub.execute_input": "2024-10-14T13:29:11.211796Z",
     "iopub.status.busy": "2024-10-14T13:29:11.211352Z",
     "iopub.status.idle": "2024-10-14T13:29:11.242391Z",
     "shell.execute_reply": "2024-10-14T13:29:11.241099Z"
    },
    "papermill": {
     "duration": 0.049673,
     "end_time": "2024-10-14T13:29:11.245057",
     "exception": false,
     "start_time": "2024-10-14T13:29:11.195384",
     "status": "completed"
    },
    "tags": []
   },
   "outputs": [
    {
     "data": {
      "text/html": [
       "<div>\n",
       "<style scoped>\n",
       "    .dataframe tbody tr th:only-of-type {\n",
       "        vertical-align: middle;\n",
       "    }\n",
       "\n",
       "    .dataframe tbody tr th {\n",
       "        vertical-align: top;\n",
       "    }\n",
       "\n",
       "    .dataframe thead th {\n",
       "        text-align: right;\n",
       "    }\n",
       "</style>\n",
       "<table border=\"1\" class=\"dataframe\">\n",
       "  <thead>\n",
       "    <tr style=\"text-align: right;\">\n",
       "      <th></th>\n",
       "      <th>id</th>\n",
       "      <th>person_age</th>\n",
       "      <th>person_income</th>\n",
       "      <th>person_home_ownership</th>\n",
       "      <th>person_emp_length</th>\n",
       "      <th>loan_intent</th>\n",
       "      <th>loan_grade</th>\n",
       "      <th>loan_amnt</th>\n",
       "      <th>loan_int_rate</th>\n",
       "      <th>loan_percent_income</th>\n",
       "      <th>cb_person_default_on_file</th>\n",
       "      <th>cb_person_cred_hist_length</th>\n",
       "      <th>loan_status</th>\n",
       "    </tr>\n",
       "  </thead>\n",
       "  <tbody>\n",
       "    <tr>\n",
       "      <th>0</th>\n",
       "      <td>0.0</td>\n",
       "      <td>37</td>\n",
       "      <td>35000</td>\n",
       "      <td>RENT</td>\n",
       "      <td>0.0</td>\n",
       "      <td>EDUCATION</td>\n",
       "      <td>B</td>\n",
       "      <td>6000</td>\n",
       "      <td>11.49</td>\n",
       "      <td>0.17</td>\n",
       "      <td>N</td>\n",
       "      <td>14</td>\n",
       "      <td>0</td>\n",
       "    </tr>\n",
       "    <tr>\n",
       "      <th>1</th>\n",
       "      <td>1.0</td>\n",
       "      <td>22</td>\n",
       "      <td>56000</td>\n",
       "      <td>OWN</td>\n",
       "      <td>6.0</td>\n",
       "      <td>MEDICAL</td>\n",
       "      <td>C</td>\n",
       "      <td>4000</td>\n",
       "      <td>13.35</td>\n",
       "      <td>0.07</td>\n",
       "      <td>N</td>\n",
       "      <td>2</td>\n",
       "      <td>0</td>\n",
       "    </tr>\n",
       "    <tr>\n",
       "      <th>2</th>\n",
       "      <td>2.0</td>\n",
       "      <td>29</td>\n",
       "      <td>28800</td>\n",
       "      <td>OWN</td>\n",
       "      <td>8.0</td>\n",
       "      <td>PERSONAL</td>\n",
       "      <td>A</td>\n",
       "      <td>6000</td>\n",
       "      <td>8.90</td>\n",
       "      <td>0.21</td>\n",
       "      <td>N</td>\n",
       "      <td>10</td>\n",
       "      <td>0</td>\n",
       "    </tr>\n",
       "    <tr>\n",
       "      <th>3</th>\n",
       "      <td>3.0</td>\n",
       "      <td>30</td>\n",
       "      <td>70000</td>\n",
       "      <td>RENT</td>\n",
       "      <td>14.0</td>\n",
       "      <td>VENTURE</td>\n",
       "      <td>B</td>\n",
       "      <td>12000</td>\n",
       "      <td>11.11</td>\n",
       "      <td>0.17</td>\n",
       "      <td>N</td>\n",
       "      <td>5</td>\n",
       "      <td>0</td>\n",
       "    </tr>\n",
       "    <tr>\n",
       "      <th>4</th>\n",
       "      <td>4.0</td>\n",
       "      <td>22</td>\n",
       "      <td>60000</td>\n",
       "      <td>RENT</td>\n",
       "      <td>2.0</td>\n",
       "      <td>MEDICAL</td>\n",
       "      <td>A</td>\n",
       "      <td>6000</td>\n",
       "      <td>6.92</td>\n",
       "      <td>0.10</td>\n",
       "      <td>N</td>\n",
       "      <td>3</td>\n",
       "      <td>0</td>\n",
       "    </tr>\n",
       "  </tbody>\n",
       "</table>\n",
       "</div>"
      ],
      "text/plain": [
       "    id  person_age  person_income person_home_ownership  person_emp_length  \\\n",
       "0  0.0          37          35000                  RENT                0.0   \n",
       "1  1.0          22          56000                   OWN                6.0   \n",
       "2  2.0          29          28800                   OWN                8.0   \n",
       "3  3.0          30          70000                  RENT               14.0   \n",
       "4  4.0          22          60000                  RENT                2.0   \n",
       "\n",
       "  loan_intent loan_grade  loan_amnt  loan_int_rate  loan_percent_income  \\\n",
       "0   EDUCATION          B       6000          11.49                 0.17   \n",
       "1     MEDICAL          C       4000          13.35                 0.07   \n",
       "2    PERSONAL          A       6000           8.90                 0.21   \n",
       "3     VENTURE          B      12000          11.11                 0.17   \n",
       "4     MEDICAL          A       6000           6.92                 0.10   \n",
       "\n",
       "  cb_person_default_on_file  cb_person_cred_hist_length  loan_status  \n",
       "0                         N                          14            0  \n",
       "1                         N                           2            0  \n",
       "2                         N                          10            0  \n",
       "3                         N                           5            0  \n",
       "4                         N                           3            0  "
      ]
     },
     "execution_count": 6,
     "metadata": {},
     "output_type": "execute_result"
    }
   ],
   "source": [
    "# concatenate train and original datasets and explore data\n",
    "\n",
    "train_origin = pd.concat([train, original], axis=0, ignore_index=True)\n",
    "train_origin.head()"
   ]
  },
  {
   "cell_type": "code",
   "execution_count": 7,
   "id": "c3eb9762",
   "metadata": {
    "execution": {
     "iopub.execute_input": "2024-10-14T13:29:11.277162Z",
     "iopub.status.busy": "2024-10-14T13:29:11.276278Z",
     "iopub.status.idle": "2024-10-14T13:29:11.286640Z",
     "shell.execute_reply": "2024-10-14T13:29:11.285437Z"
    },
    "papermill": {
     "duration": 0.029273,
     "end_time": "2024-10-14T13:29:11.289284",
     "exception": false,
     "start_time": "2024-10-14T13:29:11.260011",
     "status": "completed"
    },
    "tags": []
   },
   "outputs": [
    {
     "data": {
      "text/plain": [
       "loan_status\n",
       "0    75768\n",
       "1    15458\n",
       "Name: count, dtype: int64"
      ]
     },
     "execution_count": 7,
     "metadata": {},
     "output_type": "execute_result"
    }
   ],
   "source": [
    "train_origin['loan_status'].value_counts()"
   ]
  },
  {
   "cell_type": "code",
   "execution_count": 8,
   "id": "c1fe2869",
   "metadata": {
    "execution": {
     "iopub.execute_input": "2024-10-14T13:29:11.320950Z",
     "iopub.status.busy": "2024-10-14T13:29:11.320481Z",
     "iopub.status.idle": "2024-10-14T13:29:11.332373Z",
     "shell.execute_reply": "2024-10-14T13:29:11.331096Z"
    },
    "papermill": {
     "duration": 0.030224,
     "end_time": "2024-10-14T13:29:11.334530",
     "exception": false,
     "start_time": "2024-10-14T13:29:11.304306",
     "status": "completed"
    },
    "tags": []
   },
   "outputs": [
    {
     "data": {
      "text/plain": [
       "0.20401752718825888"
      ]
     },
     "execution_count": 8,
     "metadata": {},
     "output_type": "execute_result"
    }
   ],
   "source": [
    "imbalanced_ratio = train_origin['loan_status'].value_counts()[1] / train_origin['loan_status'].value_counts()[0]\n",
    "imbalanced_ratio"
   ]
  },
  {
   "cell_type": "markdown",
   "id": "3c4a4f28",
   "metadata": {
    "papermill": {
     "duration": 0.014883,
     "end_time": "2024-10-14T13:29:11.364380",
     "exception": false,
     "start_time": "2024-10-14T13:29:11.349497",
     "status": "completed"
    },
    "tags": []
   },
   "source": [
    "The imbalanced ratio of approximately 0.204 indicates that the dataset has a imbalance between the two classes of loan status. The model may face some challenges in accurately predicting the minority class."
   ]
  },
  {
   "cell_type": "code",
   "execution_count": 9,
   "id": "6c10d792",
   "metadata": {
    "execution": {
     "iopub.execute_input": "2024-10-14T13:29:11.398305Z",
     "iopub.status.busy": "2024-10-14T13:29:11.397897Z",
     "iopub.status.idle": "2024-10-14T13:29:11.420403Z",
     "shell.execute_reply": "2024-10-14T13:29:11.419171Z"
    },
    "papermill": {
     "duration": 0.042693,
     "end_time": "2024-10-14T13:29:11.423086",
     "exception": false,
     "start_time": "2024-10-14T13:29:11.380393",
     "status": "completed"
    },
    "tags": []
   },
   "outputs": [],
   "source": [
    "# drop id column, it is uneccessery column\n",
    "train_origin = train_origin.drop('id', axis=1)"
   ]
  },
  {
   "cell_type": "code",
   "execution_count": 10,
   "id": "e843c24e",
   "metadata": {
    "execution": {
     "iopub.execute_input": "2024-10-14T13:29:11.454718Z",
     "iopub.status.busy": "2024-10-14T13:29:11.454296Z",
     "iopub.status.idle": "2024-10-14T13:29:11.493832Z",
     "shell.execute_reply": "2024-10-14T13:29:11.492588Z"
    },
    "papermill": {
     "duration": 0.058375,
     "end_time": "2024-10-14T13:29:11.496478",
     "exception": false,
     "start_time": "2024-10-14T13:29:11.438103",
     "status": "completed"
    },
    "tags": []
   },
   "outputs": [
    {
     "name": "stdout",
     "output_type": "stream",
     "text": [
      "<class 'pandas.core.frame.DataFrame'>\n",
      "RangeIndex: 91226 entries, 0 to 91225\n",
      "Data columns (total 12 columns):\n",
      " #   Column                      Non-Null Count  Dtype  \n",
      "---  ------                      --------------  -----  \n",
      " 0   person_age                  91226 non-null  int64  \n",
      " 1   person_income               91226 non-null  int64  \n",
      " 2   person_home_ownership       91226 non-null  object \n",
      " 3   person_emp_length           90331 non-null  float64\n",
      " 4   loan_intent                 91226 non-null  object \n",
      " 5   loan_grade                  91226 non-null  object \n",
      " 6   loan_amnt                   91226 non-null  int64  \n",
      " 7   loan_int_rate               88110 non-null  float64\n",
      " 8   loan_percent_income         91226 non-null  float64\n",
      " 9   cb_person_default_on_file   91226 non-null  object \n",
      " 10  cb_person_cred_hist_length  91226 non-null  int64  \n",
      " 11  loan_status                 91226 non-null  int64  \n",
      "dtypes: float64(3), int64(5), object(4)\n",
      "memory usage: 8.4+ MB\n"
     ]
    }
   ],
   "source": [
    "train_origin.info()"
   ]
  },
  {
   "cell_type": "code",
   "execution_count": 11,
   "id": "2f134dce",
   "metadata": {
    "execution": {
     "iopub.execute_input": "2024-10-14T13:29:11.528917Z",
     "iopub.status.busy": "2024-10-14T13:29:11.528038Z",
     "iopub.status.idle": "2024-10-14T13:29:11.608999Z",
     "shell.execute_reply": "2024-10-14T13:29:11.607846Z"
    },
    "papermill": {
     "duration": 0.099892,
     "end_time": "2024-10-14T13:29:11.611614",
     "exception": false,
     "start_time": "2024-10-14T13:29:11.511722",
     "status": "completed"
    },
    "tags": []
   },
   "outputs": [
    {
     "data": {
      "text/html": [
       "<div>\n",
       "<style scoped>\n",
       "    .dataframe tbody tr th:only-of-type {\n",
       "        vertical-align: middle;\n",
       "    }\n",
       "\n",
       "    .dataframe tbody tr th {\n",
       "        vertical-align: top;\n",
       "    }\n",
       "\n",
       "    .dataframe thead th {\n",
       "        text-align: right;\n",
       "    }\n",
       "</style>\n",
       "<table border=\"1\" class=\"dataframe\">\n",
       "  <thead>\n",
       "    <tr style=\"text-align: right;\">\n",
       "      <th></th>\n",
       "      <th>person_age</th>\n",
       "      <th>person_income</th>\n",
       "      <th>person_emp_length</th>\n",
       "      <th>loan_amnt</th>\n",
       "      <th>loan_int_rate</th>\n",
       "      <th>loan_percent_income</th>\n",
       "      <th>cb_person_cred_hist_length</th>\n",
       "      <th>loan_status</th>\n",
       "    </tr>\n",
       "  </thead>\n",
       "  <tbody>\n",
       "    <tr>\n",
       "      <th>count</th>\n",
       "      <td>91226.000000</td>\n",
       "      <td>9.122600e+04</td>\n",
       "      <td>90331.000000</td>\n",
       "      <td>91226.000000</td>\n",
       "      <td>88110.000000</td>\n",
       "      <td>91226.000000</td>\n",
       "      <td>91226.000000</td>\n",
       "      <td>91226.000000</td>\n",
       "    </tr>\n",
       "    <tr>\n",
       "      <th>mean</th>\n",
       "      <td>27.616480</td>\n",
       "      <td>6.477071e+04</td>\n",
       "      <td>4.732119</td>\n",
       "      <td>9350.348607</td>\n",
       "      <td>10.789508</td>\n",
       "      <td>0.163154</td>\n",
       "      <td>5.810219</td>\n",
       "      <td>0.169447</td>\n",
       "    </tr>\n",
       "    <tr>\n",
       "      <th>std</th>\n",
       "      <td>6.148115</td>\n",
       "      <td>4.793696e+04</td>\n",
       "      <td>4.025068</td>\n",
       "      <td>5848.605423</td>\n",
       "      <td>3.108998</td>\n",
       "      <td>0.097491</td>\n",
       "      <td>4.038412</td>\n",
       "      <td>0.375149</td>\n",
       "    </tr>\n",
       "    <tr>\n",
       "      <th>min</th>\n",
       "      <td>20.000000</td>\n",
       "      <td>4.000000e+03</td>\n",
       "      <td>0.000000</td>\n",
       "      <td>500.000000</td>\n",
       "      <td>5.420000</td>\n",
       "      <td>0.000000</td>\n",
       "      <td>2.000000</td>\n",
       "      <td>0.000000</td>\n",
       "    </tr>\n",
       "    <tr>\n",
       "      <th>25%</th>\n",
       "      <td>23.000000</td>\n",
       "      <td>4.000000e+04</td>\n",
       "      <td>2.000000</td>\n",
       "      <td>5000.000000</td>\n",
       "      <td>7.880000</td>\n",
       "      <td>0.090000</td>\n",
       "      <td>3.000000</td>\n",
       "      <td>0.000000</td>\n",
       "    </tr>\n",
       "    <tr>\n",
       "      <th>50%</th>\n",
       "      <td>26.000000</td>\n",
       "      <td>5.700000e+04</td>\n",
       "      <td>4.000000</td>\n",
       "      <td>8000.000000</td>\n",
       "      <td>10.950000</td>\n",
       "      <td>0.140000</td>\n",
       "      <td>4.000000</td>\n",
       "      <td>0.000000</td>\n",
       "    </tr>\n",
       "    <tr>\n",
       "      <th>75%</th>\n",
       "      <td>30.000000</td>\n",
       "      <td>7.800000e+04</td>\n",
       "      <td>7.000000</td>\n",
       "      <td>12000.000000</td>\n",
       "      <td>13.110000</td>\n",
       "      <td>0.220000</td>\n",
       "      <td>8.000000</td>\n",
       "      <td>0.000000</td>\n",
       "    </tr>\n",
       "    <tr>\n",
       "      <th>max</th>\n",
       "      <td>144.000000</td>\n",
       "      <td>6.000000e+06</td>\n",
       "      <td>123.000000</td>\n",
       "      <td>35000.000000</td>\n",
       "      <td>23.220000</td>\n",
       "      <td>0.830000</td>\n",
       "      <td>30.000000</td>\n",
       "      <td>1.000000</td>\n",
       "    </tr>\n",
       "  </tbody>\n",
       "</table>\n",
       "</div>"
      ],
      "text/plain": [
       "         person_age  person_income  person_emp_length     loan_amnt  \\\n",
       "count  91226.000000   9.122600e+04       90331.000000  91226.000000   \n",
       "mean      27.616480   6.477071e+04           4.732119   9350.348607   \n",
       "std        6.148115   4.793696e+04           4.025068   5848.605423   \n",
       "min       20.000000   4.000000e+03           0.000000    500.000000   \n",
       "25%       23.000000   4.000000e+04           2.000000   5000.000000   \n",
       "50%       26.000000   5.700000e+04           4.000000   8000.000000   \n",
       "75%       30.000000   7.800000e+04           7.000000  12000.000000   \n",
       "max      144.000000   6.000000e+06         123.000000  35000.000000   \n",
       "\n",
       "       loan_int_rate  loan_percent_income  cb_person_cred_hist_length  \\\n",
       "count   88110.000000         91226.000000                91226.000000   \n",
       "mean       10.789508             0.163154                    5.810219   \n",
       "std         3.108998             0.097491                    4.038412   \n",
       "min         5.420000             0.000000                    2.000000   \n",
       "25%         7.880000             0.090000                    3.000000   \n",
       "50%        10.950000             0.140000                    4.000000   \n",
       "75%        13.110000             0.220000                    8.000000   \n",
       "max        23.220000             0.830000                   30.000000   \n",
       "\n",
       "        loan_status  \n",
       "count  91226.000000  \n",
       "mean       0.169447  \n",
       "std        0.375149  \n",
       "min        0.000000  \n",
       "25%        0.000000  \n",
       "50%        0.000000  \n",
       "75%        0.000000  \n",
       "max        1.000000  "
      ]
     },
     "execution_count": 11,
     "metadata": {},
     "output_type": "execute_result"
    }
   ],
   "source": [
    "train_origin.describe()"
   ]
  },
  {
   "cell_type": "markdown",
   "id": "47671003",
   "metadata": {
    "papermill": {
     "duration": 0.015486,
     "end_time": "2024-10-14T13:29:11.642440",
     "exception": false,
     "start_time": "2024-10-14T13:29:11.626954",
     "status": "completed"
    },
    "tags": []
   },
   "source": [
    "Some applicants as old as 144, indicating potential outliers or data inaccuracies. The same with employment length."
   ]
  },
  {
   "cell_type": "code",
   "execution_count": 12,
   "id": "44e72b7b",
   "metadata": {
    "execution": {
     "iopub.execute_input": "2024-10-14T13:29:11.676404Z",
     "iopub.status.busy": "2024-10-14T13:29:11.675950Z",
     "iopub.status.idle": "2024-10-14T13:29:11.753627Z",
     "shell.execute_reply": "2024-10-14T13:29:11.752339Z"
    },
    "papermill": {
     "duration": 0.097931,
     "end_time": "2024-10-14T13:29:11.756640",
     "exception": false,
     "start_time": "2024-10-14T13:29:11.658709",
     "status": "completed"
    },
    "tags": []
   },
   "outputs": [
    {
     "data": {
      "text/html": [
       "<div>\n",
       "<style scoped>\n",
       "    .dataframe tbody tr th:only-of-type {\n",
       "        vertical-align: middle;\n",
       "    }\n",
       "\n",
       "    .dataframe tbody tr th {\n",
       "        vertical-align: top;\n",
       "    }\n",
       "\n",
       "    .dataframe thead th {\n",
       "        text-align: right;\n",
       "    }\n",
       "</style>\n",
       "<table border=\"1\" class=\"dataframe\">\n",
       "  <thead>\n",
       "    <tr style=\"text-align: right;\">\n",
       "      <th></th>\n",
       "      <th>person_home_ownership</th>\n",
       "      <th>loan_intent</th>\n",
       "      <th>loan_grade</th>\n",
       "      <th>cb_person_default_on_file</th>\n",
       "    </tr>\n",
       "  </thead>\n",
       "  <tbody>\n",
       "    <tr>\n",
       "      <th>count</th>\n",
       "      <td>91226</td>\n",
       "      <td>91226</td>\n",
       "      <td>91226</td>\n",
       "      <td>91226</td>\n",
       "    </tr>\n",
       "    <tr>\n",
       "      <th>unique</th>\n",
       "      <td>4</td>\n",
       "      <td>6</td>\n",
       "      <td>7</td>\n",
       "      <td>2</td>\n",
       "    </tr>\n",
       "    <tr>\n",
       "      <th>top</th>\n",
       "      <td>RENT</td>\n",
       "      <td>EDUCATION</td>\n",
       "      <td>A</td>\n",
       "      <td>N</td>\n",
       "    </tr>\n",
       "    <tr>\n",
       "      <th>freq</th>\n",
       "      <td>47040</td>\n",
       "      <td>18724</td>\n",
       "      <td>31761</td>\n",
       "      <td>76779</td>\n",
       "    </tr>\n",
       "  </tbody>\n",
       "</table>\n",
       "</div>"
      ],
      "text/plain": [
       "       person_home_ownership loan_intent loan_grade cb_person_default_on_file\n",
       "count                  91226       91226      91226                     91226\n",
       "unique                     4           6          7                         2\n",
       "top                     RENT   EDUCATION          A                         N\n",
       "freq                   47040       18724      31761                     76779"
      ]
     },
     "execution_count": 12,
     "metadata": {},
     "output_type": "execute_result"
    }
   ],
   "source": [
    "train_origin.describe(include='object')"
   ]
  },
  {
   "cell_type": "code",
   "execution_count": 13,
   "id": "0433967b",
   "metadata": {
    "execution": {
     "iopub.execute_input": "2024-10-14T13:29:11.791087Z",
     "iopub.status.busy": "2024-10-14T13:29:11.790494Z",
     "iopub.status.idle": "2024-10-14T13:29:25.063090Z",
     "shell.execute_reply": "2024-10-14T13:29:25.061807Z"
    },
    "papermill": {
     "duration": 13.292808,
     "end_time": "2024-10-14T13:29:25.066355",
     "exception": false,
     "start_time": "2024-10-14T13:29:11.773547",
     "status": "completed"
    },
    "tags": []
   },
   "outputs": [
    {
     "name": "stderr",
     "output_type": "stream",
     "text": [
      "/opt/conda/lib/python3.10/site-packages/seaborn/_oldcore.py:1119: FutureWarning: use_inf_as_na option is deprecated and will be removed in a future version. Convert inf values to NaN before operating instead.\n",
      "  with pd.option_context('mode.use_inf_as_na', True):\n",
      "/opt/conda/lib/python3.10/site-packages/seaborn/_oldcore.py:1119: FutureWarning: use_inf_as_na option is deprecated and will be removed in a future version. Convert inf values to NaN before operating instead.\n",
      "  with pd.option_context('mode.use_inf_as_na', True):\n",
      "/opt/conda/lib/python3.10/site-packages/seaborn/_oldcore.py:1119: FutureWarning: use_inf_as_na option is deprecated and will be removed in a future version. Convert inf values to NaN before operating instead.\n",
      "  with pd.option_context('mode.use_inf_as_na', True):\n",
      "/opt/conda/lib/python3.10/site-packages/seaborn/_oldcore.py:1119: FutureWarning: use_inf_as_na option is deprecated and will be removed in a future version. Convert inf values to NaN before operating instead.\n",
      "  with pd.option_context('mode.use_inf_as_na', True):\n",
      "/opt/conda/lib/python3.10/site-packages/seaborn/_oldcore.py:1119: FutureWarning: use_inf_as_na option is deprecated and will be removed in a future version. Convert inf values to NaN before operating instead.\n",
      "  with pd.option_context('mode.use_inf_as_na', True):\n",
      "/opt/conda/lib/python3.10/site-packages/seaborn/_oldcore.py:1119: FutureWarning: use_inf_as_na option is deprecated and will be removed in a future version. Convert inf values to NaN before operating instead.\n",
      "  with pd.option_context('mode.use_inf_as_na', True):\n",
      "/opt/conda/lib/python3.10/site-packages/seaborn/_oldcore.py:1119: FutureWarning: use_inf_as_na option is deprecated and will be removed in a future version. Convert inf values to NaN before operating instead.\n",
      "  with pd.option_context('mode.use_inf_as_na', True):\n",
      "/opt/conda/lib/python3.10/site-packages/seaborn/_oldcore.py:1119: FutureWarning: use_inf_as_na option is deprecated and will be removed in a future version. Convert inf values to NaN before operating instead.\n",
      "  with pd.option_context('mode.use_inf_as_na', True):\n"
     ]
    },
    {
     "data": {
      "image/png": "[encoded data removed]",
      "text/plain": [
       "<Figure size 1500x1000 with 8 Axes>"
      ]
     },
     "metadata": {},
     "output_type": "display_data"
    }
   ],
   "source": [
    "numerical_features = train_origin.select_dtypes(include=['number'])\n",
    "\n",
    "plt.figure(figsize=(15, 10))\n",
    "\n",
    "for i, feature in enumerate(numerical_features, 1):\n",
    "    plt.subplot(3, 3, i)\n",
    "    sns.histplot(train_origin[feature], kde=True)\n",
    "    plt.xlabel(feature)\n",
    "    plt.ylabel('Frequency')\n",
    "    \n",
    "plt.tight_layout()\n",
    "plt.show()"
   ]
  },
  {
   "cell_type": "code",
   "execution_count": 14,
   "id": "dd9c4c27",
   "metadata": {
    "execution": {
     "iopub.execute_input": "2024-10-14T13:29:25.106069Z",
     "iopub.status.busy": "2024-10-14T13:29:25.105616Z",
     "iopub.status.idle": "2024-10-14T13:29:25.133631Z",
     "shell.execute_reply": "2024-10-14T13:29:25.132530Z"
    },
    "papermill": {
     "duration": 0.050949,
     "end_time": "2024-10-14T13:29:25.136494",
     "exception": false,
     "start_time": "2024-10-14T13:29:25.085545",
     "status": "completed"
    },
    "tags": []
   },
   "outputs": [
    {
     "data": {
      "text/plain": [
       "loan_percent_income           0.381631\n",
       "loan_int_rate                 0.339932\n",
       "person_income                 0.152001\n",
       "loan_amnt                     0.130323\n",
       "person_emp_length             0.091718\n",
       "person_age                    0.008058\n",
       "cb_person_cred_hist_length    0.008049\n",
       "dtype: float64"
      ]
     },
     "execution_count": 14,
     "metadata": {},
     "output_type": "execute_result"
    }
   ],
   "source": [
    "numerical_features.corrwith(numerical_features.loan_status).abs().sort_values(ascending=False)[1:]"
   ]
  },
  {
   "cell_type": "code",
   "execution_count": 15,
   "id": "a8e7d5c7",
   "metadata": {
    "execution": {
     "iopub.execute_input": "2024-10-14T13:29:25.175778Z",
     "iopub.status.busy": "2024-10-14T13:29:25.175335Z",
     "iopub.status.idle": "2024-10-14T13:29:25.761224Z",
     "shell.execute_reply": "2024-10-14T13:29:25.759971Z"
    },
    "papermill": {
     "duration": 0.608729,
     "end_time": "2024-10-14T13:29:25.764185",
     "exception": false,
     "start_time": "2024-10-14T13:29:25.155456",
     "status": "completed"
    },
    "tags": []
   },
   "outputs": [
    {
     "data": {
      "text/plain": [
       "<Axes: >"
      ]
     },
     "execution_count": 15,
     "metadata": {},
     "output_type": "execute_result"
    },
    {
     "data": {
      "image/png": "[encoded data removed]",
      "text/plain": [
       "<Figure size 500x500 with 2 Axes>"
      ]
     },
     "metadata": {},
     "output_type": "display_data"
    }
   ],
   "source": [
    "plt.figure(figsize=(5, 5))\n",
    "corr_data = numerical_features.corr().abs()\n",
    "sns.heatmap(corr_data, annot=True, cmap='coolwarm')"
   ]
  },
  {
   "cell_type": "markdown",
   "id": "477a646b",
   "metadata": {
    "papermill": {
     "duration": 0.020566,
     "end_time": "2024-10-14T13:29:25.805750",
     "exception": false,
     "start_time": "2024-10-14T13:29:25.785184",
     "status": "completed"
    },
    "tags": []
   },
   "source": [
    "**High correlation between person_age and cb_person_cred_hist_length:**\n",
    "There is a strong positive correlation (0.87) between person_age and cb_person_cred_hist_length. This makes sense as the length of a person’s credit history is likely to increase with age.\n",
    "\n",
    "**Moderate correlations involving loan_percent_income:**\n",
    "loan_percent_income has a moderate positive correlation (0.62) with loan_amnt, indicating that higher loan amounts often represent a higher percentage of a person's income."
   ]
  },
  {
   "cell_type": "code",
   "execution_count": 16,
   "id": "3bf75445",
   "metadata": {
    "execution": {
     "iopub.execute_input": "2024-10-14T13:29:25.848010Z",
     "iopub.status.busy": "2024-10-14T13:29:25.847490Z",
     "iopub.status.idle": "2024-10-14T13:29:25.888017Z",
     "shell.execute_reply": "2024-10-14T13:29:25.886896Z"
    },
    "papermill": {
     "duration": 0.064259,
     "end_time": "2024-10-14T13:29:25.890546",
     "exception": false,
     "start_time": "2024-10-14T13:29:25.826287",
     "status": "completed"
    },
    "tags": []
   },
   "outputs": [
    {
     "data": {
      "text/plain": [
       "{'person_home_ownership': array(['RENT', 'OWN', 'MORTGAGE', 'OTHER'], dtype=object),\n",
       " 'loan_intent': array(['EDUCATION', 'MEDICAL', 'PERSONAL', 'VENTURE', 'DEBTCONSOLIDATION',\n",
       "        'HOMEIMPROVEMENT'], dtype=object),\n",
       " 'loan_grade': array(['B', 'C', 'A', 'D', 'E', 'F', 'G'], dtype=object),\n",
       " 'cb_person_default_on_file': array(['N', 'Y'], dtype=object)}"
      ]
     },
     "execution_count": 16,
     "metadata": {},
     "output_type": "execute_result"
    }
   ],
   "source": [
    "categorical_features = train_origin.select_dtypes(include=['object'])\n",
    "res = {}\n",
    "for column in categorical_features.columns:\n",
    "    res[column] = categorical_features[column].unique()\n",
    "res"
   ]
  },
  {
   "cell_type": "code",
   "execution_count": 17,
   "id": "d9300698",
   "metadata": {
    "execution": {
     "iopub.execute_input": "2024-10-14T13:29:25.933760Z",
     "iopub.status.busy": "2024-10-14T13:29:25.933195Z",
     "iopub.status.idle": "2024-10-14T13:29:25.956492Z",
     "shell.execute_reply": "2024-10-14T13:29:25.955340Z"
    },
    "papermill": {
     "duration": 0.048037,
     "end_time": "2024-10-14T13:29:25.959098",
     "exception": false,
     "start_time": "2024-10-14T13:29:25.911061",
     "status": "completed"
    },
    "tags": []
   },
   "outputs": [
    {
     "data": {
      "text/html": [
       "<div>\n",
       "<style scoped>\n",
       "    .dataframe tbody tr th:only-of-type {\n",
       "        vertical-align: middle;\n",
       "    }\n",
       "\n",
       "    .dataframe tbody tr th {\n",
       "        vertical-align: top;\n",
       "    }\n",
       "\n",
       "    .dataframe thead th {\n",
       "        text-align: right;\n",
       "    }\n",
       "</style>\n",
       "<table border=\"1\" class=\"dataframe\">\n",
       "  <thead>\n",
       "    <tr style=\"text-align: right;\">\n",
       "      <th></th>\n",
       "      <th>count</th>\n",
       "      <th>mean</th>\n",
       "    </tr>\n",
       "    <tr>\n",
       "      <th>loan_grade</th>\n",
       "      <th></th>\n",
       "      <th></th>\n",
       "    </tr>\n",
       "  </thead>\n",
       "  <tbody>\n",
       "    <tr>\n",
       "      <th>A</th>\n",
       "      <td>31761</td>\n",
       "      <td>0.066276</td>\n",
       "    </tr>\n",
       "    <tr>\n",
       "      <th>B</th>\n",
       "      <td>30851</td>\n",
       "      <td>0.122784</td>\n",
       "    </tr>\n",
       "    <tr>\n",
       "      <th>C</th>\n",
       "      <td>17494</td>\n",
       "      <td>0.161941</td>\n",
       "    </tr>\n",
       "    <tr>\n",
       "      <th>D</th>\n",
       "      <td>8660</td>\n",
       "      <td>0.592263</td>\n",
       "    </tr>\n",
       "    <tr>\n",
       "      <th>E</th>\n",
       "      <td>1973</td>\n",
       "      <td>0.634567</td>\n",
       "    </tr>\n",
       "    <tr>\n",
       "      <th>F</th>\n",
       "      <td>390</td>\n",
       "      <td>0.669231</td>\n",
       "    </tr>\n",
       "    <tr>\n",
       "      <th>G</th>\n",
       "      <td>97</td>\n",
       "      <td>0.927835</td>\n",
       "    </tr>\n",
       "  </tbody>\n",
       "</table>\n",
       "</div>"
      ],
      "text/plain": [
       "            count      mean\n",
       "loan_grade                 \n",
       "A           31761  0.066276\n",
       "B           30851  0.122784\n",
       "C           17494  0.161941\n",
       "D            8660  0.592263\n",
       "E            1973  0.634567\n",
       "F             390  0.669231\n",
       "G              97  0.927835"
      ]
     },
     "execution_count": 17,
     "metadata": {},
     "output_type": "execute_result"
    }
   ],
   "source": [
    "loan_grade_group = train_origin.groupby(['loan_grade'])['loan_status'].agg(['count', 'mean'])\n",
    "loan_grade_group"
   ]
  },
  {
   "cell_type": "markdown",
   "id": "2553682b",
   "metadata": {
    "papermill": {
     "duration": 0.020135,
     "end_time": "2024-10-14T13:29:26.000130",
     "exception": false,
     "start_time": "2024-10-14T13:29:25.979995",
     "status": "completed"
    },
    "tags": []
   },
   "source": [
    "97 persons  with grade 'G' has 92% of loan_staus (1)"
   ]
  },
  {
   "cell_type": "code",
   "execution_count": 18,
   "id": "ae06c8a1",
   "metadata": {
    "execution": {
     "iopub.execute_input": "2024-10-14T13:29:26.042609Z",
     "iopub.status.busy": "2024-10-14T13:29:26.041877Z",
     "iopub.status.idle": "2024-10-14T13:29:26.401930Z",
     "shell.execute_reply": "2024-10-14T13:29:26.400705Z"
    },
    "papermill": {
     "duration": 0.384077,
     "end_time": "2024-10-14T13:29:26.404353",
     "exception": false,
     "start_time": "2024-10-14T13:29:26.020276",
     "status": "completed"
    },
    "tags": []
   },
   "outputs": [
    {
     "name": "stderr",
     "output_type": "stream",
     "text": [
      "/opt/conda/lib/python3.10/site-packages/seaborn/_oldcore.py:1119: FutureWarning: use_inf_as_na option is deprecated and will be removed in a future version. Convert inf values to NaN before operating instead.\n",
      "  with pd.option_context('mode.use_inf_as_na', True):\n"
     ]
    },
    {
     "data": {
      "text/plain": [
       "<Axes: xlabel='loan_grade', ylabel='Count'>"
      ]
     },
     "execution_count": 18,
     "metadata": {},
     "output_type": "execute_result"
    },
    {
     "data": {
      "image/png": "[encoded data removed]",
      "text/plain": [
       "<Figure size 400x400 with 1 Axes>"
      ]
     },
     "metadata": {},
     "output_type": "display_data"
    }
   ],
   "source": [
    "plt.figure(figsize=(4, 4))\n",
    "sns.histplot(train_origin['loan_grade'])"
   ]
  },
  {
   "cell_type": "code",
   "execution_count": 19,
   "id": "2dfa53ce",
   "metadata": {
    "execution": {
     "iopub.execute_input": "2024-10-14T13:29:26.447917Z",
     "iopub.status.busy": "2024-10-14T13:29:26.447440Z",
     "iopub.status.idle": "2024-10-14T13:29:26.469000Z",
     "shell.execute_reply": "2024-10-14T13:29:26.467776Z"
    },
    "papermill": {
     "duration": 0.046604,
     "end_time": "2024-10-14T13:29:26.471809",
     "exception": false,
     "start_time": "2024-10-14T13:29:26.425205",
     "status": "completed"
    },
    "tags": []
   },
   "outputs": [
    {
     "data": {
      "text/html": [
       "<div>\n",
       "<style scoped>\n",
       "    .dataframe tbody tr th:only-of-type {\n",
       "        vertical-align: middle;\n",
       "    }\n",
       "\n",
       "    .dataframe tbody tr th {\n",
       "        vertical-align: top;\n",
       "    }\n",
       "\n",
       "    .dataframe thead th {\n",
       "        text-align: right;\n",
       "    }\n",
       "</style>\n",
       "<table border=\"1\" class=\"dataframe\">\n",
       "  <thead>\n",
       "    <tr style=\"text-align: right;\">\n",
       "      <th></th>\n",
       "      <th>count</th>\n",
       "      <th>mean</th>\n",
       "    </tr>\n",
       "    <tr>\n",
       "      <th>loan_intent</th>\n",
       "      <th></th>\n",
       "      <th></th>\n",
       "    </tr>\n",
       "  </thead>\n",
       "  <tbody>\n",
       "    <tr>\n",
       "      <th>DEBTCONSOLIDATION</th>\n",
       "      <td>14345</td>\n",
       "      <td>0.224399</td>\n",
       "    </tr>\n",
       "    <tr>\n",
       "      <th>EDUCATION</th>\n",
       "      <td>18724</td>\n",
       "      <td>0.129940</td>\n",
       "    </tr>\n",
       "    <tr>\n",
       "      <th>HOMEIMPROVEMENT</th>\n",
       "      <td>9885</td>\n",
       "      <td>0.205564</td>\n",
       "    </tr>\n",
       "    <tr>\n",
       "      <th>MEDICAL</th>\n",
       "      <td>17005</td>\n",
       "      <td>0.209938</td>\n",
       "    </tr>\n",
       "    <tr>\n",
       "      <th>PERSONAL</th>\n",
       "      <td>15537</td>\n",
       "      <td>0.156272</td>\n",
       "    </tr>\n",
       "    <tr>\n",
       "      <th>VENTURE</th>\n",
       "      <td>15730</td>\n",
       "      <td>0.112905</td>\n",
       "    </tr>\n",
       "  </tbody>\n",
       "</table>\n",
       "</div>"
      ],
      "text/plain": [
       "                   count      mean\n",
       "loan_intent                       \n",
       "DEBTCONSOLIDATION  14345  0.224399\n",
       "EDUCATION          18724  0.129940\n",
       "HOMEIMPROVEMENT     9885  0.205564\n",
       "MEDICAL            17005  0.209938\n",
       "PERSONAL           15537  0.156272\n",
       "VENTURE            15730  0.112905"
      ]
     },
     "execution_count": 19,
     "metadata": {},
     "output_type": "execute_result"
    }
   ],
   "source": [
    "loan_intent_group = train_origin.groupby(['loan_intent'])['loan_status'].agg(['count', 'mean'])\n",
    "loan_intent_group"
   ]
  },
  {
   "cell_type": "code",
   "execution_count": 20,
   "id": "54235ee3",
   "metadata": {
    "execution": {
     "iopub.execute_input": "2024-10-14T13:29:26.516866Z",
     "iopub.status.busy": "2024-10-14T13:29:26.516348Z",
     "iopub.status.idle": "2024-10-14T13:29:26.537676Z",
     "shell.execute_reply": "2024-10-14T13:29:26.536476Z"
    },
    "papermill": {
     "duration": 0.047048,
     "end_time": "2024-10-14T13:29:26.540509",
     "exception": false,
     "start_time": "2024-10-14T13:29:26.493461",
     "status": "completed"
    },
    "tags": []
   },
   "outputs": [
    {
     "data": {
      "text/html": [
       "<div>\n",
       "<style scoped>\n",
       "    .dataframe tbody tr th:only-of-type {\n",
       "        vertical-align: middle;\n",
       "    }\n",
       "\n",
       "    .dataframe tbody tr th {\n",
       "        vertical-align: top;\n",
       "    }\n",
       "\n",
       "    .dataframe thead th {\n",
       "        text-align: right;\n",
       "    }\n",
       "</style>\n",
       "<table border=\"1\" class=\"dataframe\">\n",
       "  <thead>\n",
       "    <tr style=\"text-align: right;\">\n",
       "      <th></th>\n",
       "      <th>count</th>\n",
       "      <th>mean</th>\n",
       "    </tr>\n",
       "    <tr>\n",
       "      <th>person_home_ownership</th>\n",
       "      <th></th>\n",
       "      <th></th>\n",
       "    </tr>\n",
       "  </thead>\n",
       "  <tbody>\n",
       "    <tr>\n",
       "      <th>MORTGAGE</th>\n",
       "      <td>38268</td>\n",
       "      <td>0.082915</td>\n",
       "    </tr>\n",
       "    <tr>\n",
       "      <th>OTHER</th>\n",
       "      <td>196</td>\n",
       "      <td>0.244898</td>\n",
       "    </tr>\n",
       "    <tr>\n",
       "      <th>OWN</th>\n",
       "      <td>5722</td>\n",
       "      <td>0.041244</td>\n",
       "    </tr>\n",
       "    <tr>\n",
       "      <th>RENT</th>\n",
       "      <td>47040</td>\n",
       "      <td>0.255123</td>\n",
       "    </tr>\n",
       "  </tbody>\n",
       "</table>\n",
       "</div>"
      ],
      "text/plain": [
       "                       count      mean\n",
       "person_home_ownership                 \n",
       "MORTGAGE               38268  0.082915\n",
       "OTHER                    196  0.244898\n",
       "OWN                     5722  0.041244\n",
       "RENT                   47040  0.255123"
      ]
     },
     "execution_count": 20,
     "metadata": {},
     "output_type": "execute_result"
    }
   ],
   "source": [
    "person_home_ownership_group = train_origin.groupby(['person_home_ownership'])['loan_status'].agg(['count', 'mean'])\n",
    "person_home_ownership_group"
   ]
  },
  {
   "cell_type": "markdown",
   "id": "48db27e8",
   "metadata": {
    "papermill": {
     "duration": 0.020682,
     "end_time": "2024-10-14T13:29:26.582642",
     "exception": false,
     "start_time": "2024-10-14T13:29:26.561960",
     "status": "completed"
    },
    "tags": []
   },
   "source": [
    "The majority of borrowers fall into the \"RENT\" category (47,040), followed by \"MORTGAGE\" (38,268), \"OWN\" (5,722), and a small number in \"OTHER\" (196). This distribution suggests that a large segment of the loan applicants are renting their homes."
   ]
  },
  {
   "cell_type": "code",
   "execution_count": 21,
   "id": "5c39a674",
   "metadata": {
    "execution": {
     "iopub.execute_input": "2024-10-14T13:29:26.628877Z",
     "iopub.status.busy": "2024-10-14T13:29:26.628408Z",
     "iopub.status.idle": "2024-10-14T13:29:26.648658Z",
     "shell.execute_reply": "2024-10-14T13:29:26.647362Z"
    },
    "papermill": {
     "duration": 0.04605,
     "end_time": "2024-10-14T13:29:26.651447",
     "exception": false,
     "start_time": "2024-10-14T13:29:26.605397",
     "status": "completed"
    },
    "tags": []
   },
   "outputs": [
    {
     "data": {
      "text/html": [
       "<div>\n",
       "<style scoped>\n",
       "    .dataframe tbody tr th:only-of-type {\n",
       "        vertical-align: middle;\n",
       "    }\n",
       "\n",
       "    .dataframe tbody tr th {\n",
       "        vertical-align: top;\n",
       "    }\n",
       "\n",
       "    .dataframe thead th {\n",
       "        text-align: right;\n",
       "    }\n",
       "</style>\n",
       "<table border=\"1\" class=\"dataframe\">\n",
       "  <thead>\n",
       "    <tr style=\"text-align: right;\">\n",
       "      <th></th>\n",
       "      <th>count</th>\n",
       "      <th>mean</th>\n",
       "    </tr>\n",
       "    <tr>\n",
       "      <th>cb_person_default_on_file</th>\n",
       "      <th></th>\n",
       "      <th></th>\n",
       "    </tr>\n",
       "  </thead>\n",
       "  <tbody>\n",
       "    <tr>\n",
       "      <th>N</th>\n",
       "      <td>76779</td>\n",
       "      <td>0.139166</td>\n",
       "    </tr>\n",
       "    <tr>\n",
       "      <th>Y</th>\n",
       "      <td>14447</td>\n",
       "      <td>0.330380</td>\n",
       "    </tr>\n",
       "  </tbody>\n",
       "</table>\n",
       "</div>"
      ],
      "text/plain": [
       "                           count      mean\n",
       "cb_person_default_on_file                 \n",
       "N                          76779  0.139166\n",
       "Y                          14447  0.330380"
      ]
     },
     "execution_count": 21,
     "metadata": {},
     "output_type": "execute_result"
    }
   ],
   "source": [
    "cb_person_default_on_file_group = train_origin.groupby(['cb_person_default_on_file'])['loan_status'].agg(['count', 'mean'])\n",
    "cb_person_default_on_file_group"
   ]
  },
  {
   "cell_type": "markdown",
   "id": "a3bfceb5",
   "metadata": {
    "papermill": {
     "duration": 0.021581,
     "end_time": "2024-10-14T13:29:26.694505",
     "exception": false,
     "start_time": "2024-10-14T13:29:26.672924",
     "status": "completed"
    },
    "tags": []
   },
   "source": [
    "The majority of borrowers in the dataset do not have a default on file, with 76,779 individuals in the \"N\" (No) category, compared to 14,447 in the \"Y\" (Yes) category. This suggests that a significant portion of the applicants have a clean credit history."
   ]
  },
  {
   "cell_type": "code",
   "execution_count": 22,
   "id": "00bd0f4a",
   "metadata": {
    "execution": {
     "iopub.execute_input": "2024-10-14T13:29:26.741585Z",
     "iopub.status.busy": "2024-10-14T13:29:26.740540Z",
     "iopub.status.idle": "2024-10-14T13:29:26.761710Z",
     "shell.execute_reply": "2024-10-14T13:29:26.760492Z"
    },
    "papermill": {
     "duration": 0.047938,
     "end_time": "2024-10-14T13:29:26.764543",
     "exception": false,
     "start_time": "2024-10-14T13:29:26.716605",
     "status": "completed"
    },
    "tags": []
   },
   "outputs": [
    {
     "data": {
      "text/html": [
       "<div>\n",
       "<style scoped>\n",
       "    .dataframe tbody tr th:only-of-type {\n",
       "        vertical-align: middle;\n",
       "    }\n",
       "\n",
       "    .dataframe tbody tr th {\n",
       "        vertical-align: top;\n",
       "    }\n",
       "\n",
       "    .dataframe thead th {\n",
       "        text-align: right;\n",
       "    }\n",
       "</style>\n",
       "<table border=\"1\" class=\"dataframe\">\n",
       "  <thead>\n",
       "    <tr style=\"text-align: right;\">\n",
       "      <th></th>\n",
       "      <th>person_age</th>\n",
       "      <th>person_income</th>\n",
       "      <th>person_home_ownership</th>\n",
       "      <th>person_emp_length</th>\n",
       "      <th>loan_intent</th>\n",
       "      <th>loan_grade</th>\n",
       "      <th>loan_amnt</th>\n",
       "      <th>loan_int_rate</th>\n",
       "      <th>loan_percent_income</th>\n",
       "      <th>cb_person_default_on_file</th>\n",
       "      <th>cb_person_cred_hist_length</th>\n",
       "      <th>loan_status</th>\n",
       "    </tr>\n",
       "  </thead>\n",
       "  <tbody>\n",
       "    <tr>\n",
       "      <th>4962</th>\n",
       "      <td>84</td>\n",
       "      <td>108928</td>\n",
       "      <td>MORTGAGE</td>\n",
       "      <td>3.0</td>\n",
       "      <td>DEBTCONSOLIDATION</td>\n",
       "      <td>A</td>\n",
       "      <td>6000</td>\n",
       "      <td>7.51</td>\n",
       "      <td>0.06</td>\n",
       "      <td>N</td>\n",
       "      <td>25</td>\n",
       "      <td>0</td>\n",
       "    </tr>\n",
       "    <tr>\n",
       "      <th>6750</th>\n",
       "      <td>84</td>\n",
       "      <td>94800</td>\n",
       "      <td>MORTGAGE</td>\n",
       "      <td>2.0</td>\n",
       "      <td>PERSONAL</td>\n",
       "      <td>D</td>\n",
       "      <td>10000</td>\n",
       "      <td>14.09</td>\n",
       "      <td>0.11</td>\n",
       "      <td>N</td>\n",
       "      <td>22</td>\n",
       "      <td>0</td>\n",
       "    </tr>\n",
       "    <tr>\n",
       "      <th>47336</th>\n",
       "      <td>123</td>\n",
       "      <td>36000</td>\n",
       "      <td>MORTGAGE</td>\n",
       "      <td>7.0</td>\n",
       "      <td>PERSONAL</td>\n",
       "      <td>B</td>\n",
       "      <td>6700</td>\n",
       "      <td>10.75</td>\n",
       "      <td>0.18</td>\n",
       "      <td>N</td>\n",
       "      <td>4</td>\n",
       "      <td>0</td>\n",
       "    </tr>\n",
       "    <tr>\n",
       "      <th>58726</th>\n",
       "      <td>144</td>\n",
       "      <td>250000</td>\n",
       "      <td>RENT</td>\n",
       "      <td>4.0</td>\n",
       "      <td>VENTURE</td>\n",
       "      <td>C</td>\n",
       "      <td>4800</td>\n",
       "      <td>13.57</td>\n",
       "      <td>0.02</td>\n",
       "      <td>N</td>\n",
       "      <td>3</td>\n",
       "      <td>0</td>\n",
       "    </tr>\n",
       "    <tr>\n",
       "      <th>58828</th>\n",
       "      <td>144</td>\n",
       "      <td>200000</td>\n",
       "      <td>MORTGAGE</td>\n",
       "      <td>4.0</td>\n",
       "      <td>EDUCATION</td>\n",
       "      <td>B</td>\n",
       "      <td>6000</td>\n",
       "      <td>11.86</td>\n",
       "      <td>0.03</td>\n",
       "      <td>N</td>\n",
       "      <td>2</td>\n",
       "      <td>0</td>\n",
       "    </tr>\n",
       "    <tr>\n",
       "      <th>59220</th>\n",
       "      <td>123</td>\n",
       "      <td>80004</td>\n",
       "      <td>RENT</td>\n",
       "      <td>2.0</td>\n",
       "      <td>EDUCATION</td>\n",
       "      <td>B</td>\n",
       "      <td>20400</td>\n",
       "      <td>10.25</td>\n",
       "      <td>0.25</td>\n",
       "      <td>N</td>\n",
       "      <td>3</td>\n",
       "      <td>0</td>\n",
       "    </tr>\n",
       "    <tr>\n",
       "      <th>59392</th>\n",
       "      <td>123</td>\n",
       "      <td>78000</td>\n",
       "      <td>RENT</td>\n",
       "      <td>7.0</td>\n",
       "      <td>VENTURE</td>\n",
       "      <td>B</td>\n",
       "      <td>20000</td>\n",
       "      <td>NaN</td>\n",
       "      <td>0.26</td>\n",
       "      <td>N</td>\n",
       "      <td>4</td>\n",
       "      <td>0</td>\n",
       "    </tr>\n",
       "    <tr>\n",
       "      <th>90942</th>\n",
       "      <td>144</td>\n",
       "      <td>6000000</td>\n",
       "      <td>MORTGAGE</td>\n",
       "      <td>12.0</td>\n",
       "      <td>PERSONAL</td>\n",
       "      <td>C</td>\n",
       "      <td>5000</td>\n",
       "      <td>12.73</td>\n",
       "      <td>0.00</td>\n",
       "      <td>N</td>\n",
       "      <td>25</td>\n",
       "      <td>0</td>\n",
       "    </tr>\n",
       "    <tr>\n",
       "      <th>91061</th>\n",
       "      <td>94</td>\n",
       "      <td>24000</td>\n",
       "      <td>RENT</td>\n",
       "      <td>1.0</td>\n",
       "      <td>MEDICAL</td>\n",
       "      <td>C</td>\n",
       "      <td>6500</td>\n",
       "      <td>NaN</td>\n",
       "      <td>0.27</td>\n",
       "      <td>N</td>\n",
       "      <td>27</td>\n",
       "      <td>0</td>\n",
       "    </tr>\n",
       "    <tr>\n",
       "      <th>91151</th>\n",
       "      <td>84</td>\n",
       "      <td>94800</td>\n",
       "      <td>MORTGAGE</td>\n",
       "      <td>2.0</td>\n",
       "      <td>PERSONAL</td>\n",
       "      <td>A</td>\n",
       "      <td>10000</td>\n",
       "      <td>7.51</td>\n",
       "      <td>0.11</td>\n",
       "      <td>N</td>\n",
       "      <td>24</td>\n",
       "      <td>0</td>\n",
       "    </tr>\n",
       "  </tbody>\n",
       "</table>\n",
       "</div>"
      ],
      "text/plain": [
       "       person_age  person_income person_home_ownership  person_emp_length  \\\n",
       "4962           84         108928              MORTGAGE                3.0   \n",
       "6750           84          94800              MORTGAGE                2.0   \n",
       "47336         123          36000              MORTGAGE                7.0   \n",
       "58726         144         250000                  RENT                4.0   \n",
       "58828         144         200000              MORTGAGE                4.0   \n",
       "59220         123          80004                  RENT                2.0   \n",
       "59392         123          78000                  RENT                7.0   \n",
       "90942         144        6000000              MORTGAGE               12.0   \n",
       "91061          94          24000                  RENT                1.0   \n",
       "91151          84          94800              MORTGAGE                2.0   \n",
       "\n",
       "             loan_intent loan_grade  loan_amnt  loan_int_rate  \\\n",
       "4962   DEBTCONSOLIDATION          A       6000           7.51   \n",
       "6750            PERSONAL          D      10000          14.09   \n",
       "47336           PERSONAL          B       6700          10.75   \n",
       "58726            VENTURE          C       4800          13.57   \n",
       "58828          EDUCATION          B       6000          11.86   \n",
       "59220          EDUCATION          B      20400          10.25   \n",
       "59392            VENTURE          B      20000            NaN   \n",
       "90942           PERSONAL          C       5000          12.73   \n",
       "91061            MEDICAL          C       6500            NaN   \n",
       "91151           PERSONAL          A      10000           7.51   \n",
       "\n",
       "       loan_percent_income cb_person_default_on_file  \\\n",
       "4962                  0.06                         N   \n",
       "6750                  0.11                         N   \n",
       "47336                 0.18                         N   \n",
       "58726                 0.02                         N   \n",
       "58828                 0.03                         N   \n",
       "59220                 0.25                         N   \n",
       "59392                 0.26                         N   \n",
       "90942                 0.00                         N   \n",
       "91061                 0.27                         N   \n",
       "91151                 0.11                         N   \n",
       "\n",
       "       cb_person_cred_hist_length  loan_status  \n",
       "4962                           25            0  \n",
       "6750                           22            0  \n",
       "47336                           4            0  \n",
       "58726                           3            0  \n",
       "58828                           2            0  \n",
       "59220                           3            0  \n",
       "59392                           4            0  \n",
       "90942                          25            0  \n",
       "91061                          27            0  \n",
       "91151                          24            0  "
      ]
     },
     "execution_count": 22,
     "metadata": {},
     "output_type": "execute_result"
    }
   ],
   "source": [
    "# all persons older then 80 have loan_status (0)\n",
    "train_origin[train_origin['person_age'] > 80]"
   ]
  },
  {
   "cell_type": "code",
   "execution_count": 23,
   "id": "ba88b6b5",
   "metadata": {
    "execution": {
     "iopub.execute_input": "2024-10-14T13:29:26.811473Z",
     "iopub.status.busy": "2024-10-14T13:29:26.811040Z",
     "iopub.status.idle": "2024-10-14T13:29:26.830229Z",
     "shell.execute_reply": "2024-10-14T13:29:26.828893Z"
    },
    "papermill": {
     "duration": 0.045834,
     "end_time": "2024-10-14T13:29:26.833459",
     "exception": false,
     "start_time": "2024-10-14T13:29:26.787625",
     "status": "completed"
    },
    "tags": []
   },
   "outputs": [],
   "source": [
    "# drop persons with age more then 80\n",
    "train_origin = train_origin.drop(train_origin[train_origin['person_age'] > 80].index)"
   ]
  },
  {
   "cell_type": "code",
   "execution_count": 24,
   "id": "1ea42544",
   "metadata": {
    "execution": {
     "iopub.execute_input": "2024-10-14T13:29:26.879411Z",
     "iopub.status.busy": "2024-10-14T13:29:26.879014Z",
     "iopub.status.idle": "2024-10-14T13:29:26.904390Z",
     "shell.execute_reply": "2024-10-14T13:29:26.903069Z"
    },
    "papermill": {
     "duration": 0.051344,
     "end_time": "2024-10-14T13:29:26.907011",
     "exception": false,
     "start_time": "2024-10-14T13:29:26.855667",
     "status": "completed"
    },
    "tags": []
   },
   "outputs": [
    {
     "data": {
      "text/html": [
       "<div>\n",
       "<style scoped>\n",
       "    .dataframe tbody tr th:only-of-type {\n",
       "        vertical-align: middle;\n",
       "    }\n",
       "\n",
       "    .dataframe tbody tr th {\n",
       "        vertical-align: top;\n",
       "    }\n",
       "\n",
       "    .dataframe thead th {\n",
       "        text-align: right;\n",
       "    }\n",
       "</style>\n",
       "<table border=\"1\" class=\"dataframe\">\n",
       "  <thead>\n",
       "    <tr style=\"text-align: right;\">\n",
       "      <th></th>\n",
       "      <th>person_age</th>\n",
       "      <th>person_income</th>\n",
       "      <th>person_home_ownership</th>\n",
       "      <th>person_emp_length</th>\n",
       "      <th>loan_intent</th>\n",
       "      <th>loan_grade</th>\n",
       "      <th>loan_amnt</th>\n",
       "      <th>loan_int_rate</th>\n",
       "      <th>loan_percent_income</th>\n",
       "      <th>cb_person_default_on_file</th>\n",
       "      <th>cb_person_cred_hist_length</th>\n",
       "      <th>loan_status</th>\n",
       "    </tr>\n",
       "  </thead>\n",
       "  <tbody>\n",
       "    <tr>\n",
       "      <th>24214</th>\n",
       "      <td>43</td>\n",
       "      <td>50000</td>\n",
       "      <td>RENT</td>\n",
       "      <td>35.0</td>\n",
       "      <td>DEBTCONSOLIDATION</td>\n",
       "      <td>A</td>\n",
       "      <td>9000</td>\n",
       "      <td>5.42</td>\n",
       "      <td>0.18</td>\n",
       "      <td>N</td>\n",
       "      <td>16</td>\n",
       "      <td>0</td>\n",
       "    </tr>\n",
       "    <tr>\n",
       "      <th>26125</th>\n",
       "      <td>43</td>\n",
       "      <td>56000</td>\n",
       "      <td>RENT</td>\n",
       "      <td>41.0</td>\n",
       "      <td>HOMEIMPROVEMENT</td>\n",
       "      <td>B</td>\n",
       "      <td>2000</td>\n",
       "      <td>10.99</td>\n",
       "      <td>0.04</td>\n",
       "      <td>N</td>\n",
       "      <td>14</td>\n",
       "      <td>0</td>\n",
       "    </tr>\n",
       "    <tr>\n",
       "      <th>29271</th>\n",
       "      <td>47</td>\n",
       "      <td>53913</td>\n",
       "      <td>MORTGAGE</td>\n",
       "      <td>31.0</td>\n",
       "      <td>HOMEIMPROVEMENT</td>\n",
       "      <td>B</td>\n",
       "      <td>7000</td>\n",
       "      <td>10.71</td>\n",
       "      <td>0.13</td>\n",
       "      <td>N</td>\n",
       "      <td>13</td>\n",
       "      <td>1</td>\n",
       "    </tr>\n",
       "    <tr>\n",
       "      <th>39112</th>\n",
       "      <td>46</td>\n",
       "      <td>84000</td>\n",
       "      <td>MORTGAGE</td>\n",
       "      <td>31.0</td>\n",
       "      <td>HOMEIMPROVEMENT</td>\n",
       "      <td>D</td>\n",
       "      <td>20000</td>\n",
       "      <td>17.49</td>\n",
       "      <td>0.24</td>\n",
       "      <td>N</td>\n",
       "      <td>8</td>\n",
       "      <td>0</td>\n",
       "    </tr>\n",
       "    <tr>\n",
       "      <th>41079</th>\n",
       "      <td>28</td>\n",
       "      <td>60350</td>\n",
       "      <td>MORTGAGE</td>\n",
       "      <td>123.0</td>\n",
       "      <td>MEDICAL</td>\n",
       "      <td>D</td>\n",
       "      <td>25000</td>\n",
       "      <td>15.95</td>\n",
       "      <td>0.35</td>\n",
       "      <td>Y</td>\n",
       "      <td>6</td>\n",
       "      <td>1</td>\n",
       "    </tr>\n",
       "    <tr>\n",
       "      <th>48287</th>\n",
       "      <td>48</td>\n",
       "      <td>70000</td>\n",
       "      <td>MORTGAGE</td>\n",
       "      <td>31.0</td>\n",
       "      <td>HOMEIMPROVEMENT</td>\n",
       "      <td>A</td>\n",
       "      <td>9000</td>\n",
       "      <td>8.94</td>\n",
       "      <td>0.13</td>\n",
       "      <td>N</td>\n",
       "      <td>8</td>\n",
       "      <td>0</td>\n",
       "    </tr>\n",
       "    <tr>\n",
       "      <th>49252</th>\n",
       "      <td>21</td>\n",
       "      <td>192000</td>\n",
       "      <td>MORTGAGE</td>\n",
       "      <td>123.0</td>\n",
       "      <td>VENTURE</td>\n",
       "      <td>B</td>\n",
       "      <td>20000</td>\n",
       "      <td>11.49</td>\n",
       "      <td>0.10</td>\n",
       "      <td>N</td>\n",
       "      <td>2</td>\n",
       "      <td>0</td>\n",
       "    </tr>\n",
       "    <tr>\n",
       "      <th>52038</th>\n",
       "      <td>38</td>\n",
       "      <td>42000</td>\n",
       "      <td>MORTGAGE</td>\n",
       "      <td>31.0</td>\n",
       "      <td>VENTURE</td>\n",
       "      <td>B</td>\n",
       "      <td>11000</td>\n",
       "      <td>11.49</td>\n",
       "      <td>0.26</td>\n",
       "      <td>N</td>\n",
       "      <td>14</td>\n",
       "      <td>0</td>\n",
       "    </tr>\n",
       "    <tr>\n",
       "      <th>53832</th>\n",
       "      <td>46</td>\n",
       "      <td>52000</td>\n",
       "      <td>MORTGAGE</td>\n",
       "      <td>31.0</td>\n",
       "      <td>VENTURE</td>\n",
       "      <td>B</td>\n",
       "      <td>10000</td>\n",
       "      <td>9.91</td>\n",
       "      <td>0.19</td>\n",
       "      <td>N</td>\n",
       "      <td>16</td>\n",
       "      <td>0</td>\n",
       "    </tr>\n",
       "    <tr>\n",
       "      <th>58645</th>\n",
       "      <td>22</td>\n",
       "      <td>59000</td>\n",
       "      <td>RENT</td>\n",
       "      <td>123.0</td>\n",
       "      <td>PERSONAL</td>\n",
       "      <td>D</td>\n",
       "      <td>35000</td>\n",
       "      <td>16.02</td>\n",
       "      <td>0.59</td>\n",
       "      <td>Y</td>\n",
       "      <td>3</td>\n",
       "      <td>1</td>\n",
       "    </tr>\n",
       "    <tr>\n",
       "      <th>58855</th>\n",
       "      <td>21</td>\n",
       "      <td>192000</td>\n",
       "      <td>MORTGAGE</td>\n",
       "      <td>123.0</td>\n",
       "      <td>VENTURE</td>\n",
       "      <td>A</td>\n",
       "      <td>20000</td>\n",
       "      <td>6.54</td>\n",
       "      <td>0.10</td>\n",
       "      <td>N</td>\n",
       "      <td>4</td>\n",
       "      <td>0</td>\n",
       "    </tr>\n",
       "    <tr>\n",
       "      <th>89559</th>\n",
       "      <td>48</td>\n",
       "      <td>70000</td>\n",
       "      <td>MORTGAGE</td>\n",
       "      <td>31.0</td>\n",
       "      <td>HOMEIMPROVEMENT</td>\n",
       "      <td>D</td>\n",
       "      <td>9000</td>\n",
       "      <td>14.54</td>\n",
       "      <td>0.13</td>\n",
       "      <td>N</td>\n",
       "      <td>17</td>\n",
       "      <td>0</td>\n",
       "    </tr>\n",
       "    <tr>\n",
       "      <th>90511</th>\n",
       "      <td>47</td>\n",
       "      <td>178000</td>\n",
       "      <td>OWN</td>\n",
       "      <td>31.0</td>\n",
       "      <td>VENTURE</td>\n",
       "      <td>B</td>\n",
       "      <td>9000</td>\n",
       "      <td>10.99</td>\n",
       "      <td>0.05</td>\n",
       "      <td>N</td>\n",
       "      <td>17</td>\n",
       "      <td>0</td>\n",
       "    </tr>\n",
       "    <tr>\n",
       "      <th>90512</th>\n",
       "      <td>46</td>\n",
       "      <td>180000</td>\n",
       "      <td>MORTGAGE</td>\n",
       "      <td>31.0</td>\n",
       "      <td>VENTURE</td>\n",
       "      <td>B</td>\n",
       "      <td>18000</td>\n",
       "      <td>9.91</td>\n",
       "      <td>0.10</td>\n",
       "      <td>N</td>\n",
       "      <td>11</td>\n",
       "      <td>0</td>\n",
       "    </tr>\n",
       "    <tr>\n",
       "      <th>90908</th>\n",
       "      <td>46</td>\n",
       "      <td>180000</td>\n",
       "      <td>MORTGAGE</td>\n",
       "      <td>31.0</td>\n",
       "      <td>MEDICAL</td>\n",
       "      <td>B</td>\n",
       "      <td>18000</td>\n",
       "      <td>9.91</td>\n",
       "      <td>0.10</td>\n",
       "      <td>N</td>\n",
       "      <td>12</td>\n",
       "      <td>0</td>\n",
       "    </tr>\n",
       "  </tbody>\n",
       "</table>\n",
       "</div>"
      ],
      "text/plain": [
       "       person_age  person_income person_home_ownership  person_emp_length  \\\n",
       "24214          43          50000                  RENT               35.0   \n",
       "26125          43          56000                  RENT               41.0   \n",
       "29271          47          53913              MORTGAGE               31.0   \n",
       "39112          46          84000              MORTGAGE               31.0   \n",
       "41079          28          60350              MORTGAGE              123.0   \n",
       "48287          48          70000              MORTGAGE               31.0   \n",
       "49252          21         192000              MORTGAGE              123.0   \n",
       "52038          38          42000              MORTGAGE               31.0   \n",
       "53832          46          52000              MORTGAGE               31.0   \n",
       "58645          22          59000                  RENT              123.0   \n",
       "58855          21         192000              MORTGAGE              123.0   \n",
       "89559          48          70000              MORTGAGE               31.0   \n",
       "90511          47         178000                   OWN               31.0   \n",
       "90512          46         180000              MORTGAGE               31.0   \n",
       "90908          46         180000              MORTGAGE               31.0   \n",
       "\n",
       "             loan_intent loan_grade  loan_amnt  loan_int_rate  \\\n",
       "24214  DEBTCONSOLIDATION          A       9000           5.42   \n",
       "26125    HOMEIMPROVEMENT          B       2000          10.99   \n",
       "29271    HOMEIMPROVEMENT          B       7000          10.71   \n",
       "39112    HOMEIMPROVEMENT          D      20000          17.49   \n",
       "41079            MEDICAL          D      25000          15.95   \n",
       "48287    HOMEIMPROVEMENT          A       9000           8.94   \n",
       "49252            VENTURE          B      20000          11.49   \n",
       "52038            VENTURE          B      11000          11.49   \n",
       "53832            VENTURE          B      10000           9.91   \n",
       "58645           PERSONAL          D      35000          16.02   \n",
       "58855            VENTURE          A      20000           6.54   \n",
       "89559    HOMEIMPROVEMENT          D       9000          14.54   \n",
       "90511            VENTURE          B       9000          10.99   \n",
       "90512            VENTURE          B      18000           9.91   \n",
       "90908            MEDICAL          B      18000           9.91   \n",
       "\n",
       "       loan_percent_income cb_person_default_on_file  \\\n",
       "24214                 0.18                         N   \n",
       "26125                 0.04                         N   \n",
       "29271                 0.13                         N   \n",
       "39112                 0.24                         N   \n",
       "41079                 0.35                         Y   \n",
       "48287                 0.13                         N   \n",
       "49252                 0.10                         N   \n",
       "52038                 0.26                         N   \n",
       "53832                 0.19                         N   \n",
       "58645                 0.59                         Y   \n",
       "58855                 0.10                         N   \n",
       "89559                 0.13                         N   \n",
       "90511                 0.05                         N   \n",
       "90512                 0.10                         N   \n",
       "90908                 0.10                         N   \n",
       "\n",
       "       cb_person_cred_hist_length  loan_status  \n",
       "24214                          16            0  \n",
       "26125                          14            0  \n",
       "29271                          13            1  \n",
       "39112                           8            0  \n",
       "41079                           6            1  \n",
       "48287                           8            0  \n",
       "49252                           2            0  \n",
       "52038                          14            0  \n",
       "53832                          16            0  \n",
       "58645                           3            1  \n",
       "58855                           4            0  \n",
       "89559                          17            0  \n",
       "90511                          17            0  \n",
       "90512                          11            0  \n",
       "90908                          12            0  "
      ]
     },
     "execution_count": 24,
     "metadata": {},
     "output_type": "execute_result"
    }
   ],
   "source": [
    "train_origin[(train_origin['person_emp_length'] > 30) & (train_origin['person_age'] < 50)]"
   ]
  },
  {
   "cell_type": "markdown",
   "id": "ffb809d4",
   "metadata": {
    "papermill": {
     "duration": 0.025779,
     "end_time": "2024-10-14T13:29:26.956249",
     "exception": false,
     "start_time": "2024-10-14T13:29:26.930470",
     "status": "completed"
    },
    "tags": []
   },
   "source": [
    "The employment length of 123 years for individuals aged 21 to 28 is clearly unrealistic, suggesting data entry errors or anomalies and some clients have difference between age and length of the employment less then 18 year"
   ]
  },
  {
   "cell_type": "code",
   "execution_count": 25,
   "id": "31e2608f",
   "metadata": {
    "execution": {
     "iopub.execute_input": "2024-10-14T13:29:27.002865Z",
     "iopub.status.busy": "2024-10-14T13:29:27.002409Z",
     "iopub.status.idle": "2024-10-14T13:29:27.021633Z",
     "shell.execute_reply": "2024-10-14T13:29:27.020057Z"
    },
    "papermill": {
     "duration": 0.045412,
     "end_time": "2024-10-14T13:29:27.024347",
     "exception": false,
     "start_time": "2024-10-14T13:29:26.978935",
     "status": "completed"
    },
    "tags": []
   },
   "outputs": [
    {
     "data": {
      "text/html": [
       "<div>\n",
       "<style scoped>\n",
       "    .dataframe tbody tr th:only-of-type {\n",
       "        vertical-align: middle;\n",
       "    }\n",
       "\n",
       "    .dataframe tbody tr th {\n",
       "        vertical-align: top;\n",
       "    }\n",
       "\n",
       "    .dataframe thead th {\n",
       "        text-align: right;\n",
       "    }\n",
       "</style>\n",
       "<table border=\"1\" class=\"dataframe\">\n",
       "  <thead>\n",
       "    <tr style=\"text-align: right;\">\n",
       "      <th></th>\n",
       "      <th>person_age</th>\n",
       "      <th>person_income</th>\n",
       "      <th>person_home_ownership</th>\n",
       "      <th>person_emp_length</th>\n",
       "      <th>loan_intent</th>\n",
       "      <th>loan_grade</th>\n",
       "      <th>loan_amnt</th>\n",
       "      <th>loan_int_rate</th>\n",
       "      <th>loan_percent_income</th>\n",
       "      <th>cb_person_default_on_file</th>\n",
       "      <th>cb_person_cred_hist_length</th>\n",
       "      <th>loan_status</th>\n",
       "    </tr>\n",
       "  </thead>\n",
       "  <tbody>\n",
       "    <tr>\n",
       "      <th>49252</th>\n",
       "      <td>21</td>\n",
       "      <td>192000</td>\n",
       "      <td>MORTGAGE</td>\n",
       "      <td>123.0</td>\n",
       "      <td>VENTURE</td>\n",
       "      <td>B</td>\n",
       "      <td>20000</td>\n",
       "      <td>11.49</td>\n",
       "      <td>0.1</td>\n",
       "      <td>N</td>\n",
       "      <td>2</td>\n",
       "      <td>0</td>\n",
       "    </tr>\n",
       "    <tr>\n",
       "      <th>58855</th>\n",
       "      <td>21</td>\n",
       "      <td>192000</td>\n",
       "      <td>MORTGAGE</td>\n",
       "      <td>123.0</td>\n",
       "      <td>VENTURE</td>\n",
       "      <td>A</td>\n",
       "      <td>20000</td>\n",
       "      <td>6.54</td>\n",
       "      <td>0.1</td>\n",
       "      <td>N</td>\n",
       "      <td>4</td>\n",
       "      <td>0</td>\n",
       "    </tr>\n",
       "  </tbody>\n",
       "</table>\n",
       "</div>"
      ],
      "text/plain": [
       "       person_age  person_income person_home_ownership  person_emp_length  \\\n",
       "49252          21         192000              MORTGAGE              123.0   \n",
       "58855          21         192000              MORTGAGE              123.0   \n",
       "\n",
       "      loan_intent loan_grade  loan_amnt  loan_int_rate  loan_percent_income  \\\n",
       "49252     VENTURE          B      20000          11.49                  0.1   \n",
       "58855     VENTURE          A      20000           6.54                  0.1   \n",
       "\n",
       "      cb_person_default_on_file  cb_person_cred_hist_length  loan_status  \n",
       "49252                         N                           2            0  \n",
       "58855                         N                           4            0  "
      ]
     },
     "execution_count": 25,
     "metadata": {},
     "output_type": "execute_result"
    }
   ],
   "source": [
    "train_origin[(train_origin['loan_status'] == 0) & (train_origin['person_age'] - train_origin['person_emp_length'] < 0)]"
   ]
  },
  {
   "cell_type": "code",
   "execution_count": 26,
   "id": "a5af5d2f",
   "metadata": {
    "execution": {
     "iopub.execute_input": "2024-10-14T13:29:27.072412Z",
     "iopub.status.busy": "2024-10-14T13:29:27.071444Z",
     "iopub.status.idle": "2024-10-14T13:29:27.094513Z",
     "shell.execute_reply": "2024-10-14T13:29:27.093230Z"
    },
    "papermill": {
     "duration": 0.049425,
     "end_time": "2024-10-14T13:29:27.097298",
     "exception": false,
     "start_time": "2024-10-14T13:29:27.047873",
     "status": "completed"
    },
    "tags": []
   },
   "outputs": [],
   "source": [
    "indices_to_drop = train_origin.index[(train_origin['loan_status'] == 0) & \n",
    "                                      (train_origin['person_age'] - train_origin['person_emp_length'] < 0)]\n",
    "train_origin = train_origin.drop(indices_to_drop)"
   ]
  },
  {
   "cell_type": "code",
   "execution_count": 27,
   "id": "c4e1646a",
   "metadata": {
    "execution": {
     "iopub.execute_input": "2024-10-14T13:29:27.145508Z",
     "iopub.status.busy": "2024-10-14T13:29:27.145063Z",
     "iopub.status.idle": "2024-10-14T13:29:27.162876Z",
     "shell.execute_reply": "2024-10-14T13:29:27.161683Z"
    },
    "papermill": {
     "duration": 0.04536,
     "end_time": "2024-10-14T13:29:27.165554",
     "exception": false,
     "start_time": "2024-10-14T13:29:27.120194",
     "status": "completed"
    },
    "tags": []
   },
   "outputs": [
    {
     "data": {
      "text/html": [
       "<div>\n",
       "<style scoped>\n",
       "    .dataframe tbody tr th:only-of-type {\n",
       "        vertical-align: middle;\n",
       "    }\n",
       "\n",
       "    .dataframe tbody tr th {\n",
       "        vertical-align: top;\n",
       "    }\n",
       "\n",
       "    .dataframe thead th {\n",
       "        text-align: right;\n",
       "    }\n",
       "</style>\n",
       "<table border=\"1\" class=\"dataframe\">\n",
       "  <thead>\n",
       "    <tr style=\"text-align: right;\">\n",
       "      <th></th>\n",
       "      <th>person_age</th>\n",
       "      <th>person_income</th>\n",
       "      <th>person_home_ownership</th>\n",
       "      <th>person_emp_length</th>\n",
       "      <th>loan_intent</th>\n",
       "      <th>loan_grade</th>\n",
       "      <th>loan_amnt</th>\n",
       "      <th>loan_int_rate</th>\n",
       "      <th>loan_percent_income</th>\n",
       "      <th>cb_person_default_on_file</th>\n",
       "      <th>cb_person_cred_hist_length</th>\n",
       "      <th>loan_status</th>\n",
       "    </tr>\n",
       "  </thead>\n",
       "  <tbody>\n",
       "    <tr>\n",
       "      <th>41079</th>\n",
       "      <td>28</td>\n",
       "      <td>60350</td>\n",
       "      <td>MORTGAGE</td>\n",
       "      <td>123.0</td>\n",
       "      <td>MEDICAL</td>\n",
       "      <td>D</td>\n",
       "      <td>25000</td>\n",
       "      <td>15.95</td>\n",
       "      <td>0.35</td>\n",
       "      <td>Y</td>\n",
       "      <td>6</td>\n",
       "      <td>1</td>\n",
       "    </tr>\n",
       "    <tr>\n",
       "      <th>58645</th>\n",
       "      <td>22</td>\n",
       "      <td>59000</td>\n",
       "      <td>RENT</td>\n",
       "      <td>123.0</td>\n",
       "      <td>PERSONAL</td>\n",
       "      <td>D</td>\n",
       "      <td>35000</td>\n",
       "      <td>16.02</td>\n",
       "      <td>0.59</td>\n",
       "      <td>Y</td>\n",
       "      <td>3</td>\n",
       "      <td>1</td>\n",
       "    </tr>\n",
       "  </tbody>\n",
       "</table>\n",
       "</div>"
      ],
      "text/plain": [
       "       person_age  person_income person_home_ownership  person_emp_length  \\\n",
       "41079          28          60350              MORTGAGE              123.0   \n",
       "58645          22          59000                  RENT              123.0   \n",
       "\n",
       "      loan_intent loan_grade  loan_amnt  loan_int_rate  loan_percent_income  \\\n",
       "41079     MEDICAL          D      25000          15.95                 0.35   \n",
       "58645    PERSONAL          D      35000          16.02                 0.59   \n",
       "\n",
       "      cb_person_default_on_file  cb_person_cred_hist_length  loan_status  \n",
       "41079                         Y                           6            1  \n",
       "58645                         Y                           3            1  "
      ]
     },
     "execution_count": 27,
     "metadata": {},
     "output_type": "execute_result"
    }
   ],
   "source": [
    "train_origin[train_origin['person_emp_length'] == 123]"
   ]
  },
  {
   "cell_type": "code",
   "execution_count": 28,
   "id": "ad3ebeb0",
   "metadata": {
    "execution": {
     "iopub.execute_input": "2024-10-14T13:29:27.213319Z",
     "iopub.status.busy": "2024-10-14T13:29:27.212850Z",
     "iopub.status.idle": "2024-10-14T13:29:27.229908Z",
     "shell.execute_reply": "2024-10-14T13:29:27.228418Z"
    },
    "papermill": {
     "duration": 0.044533,
     "end_time": "2024-10-14T13:29:27.232603",
     "exception": false,
     "start_time": "2024-10-14T13:29:27.188070",
     "status": "completed"
    },
    "tags": []
   },
   "outputs": [],
   "source": [
    "median_emp_length_22 = train_origin[train_origin['person_age']== 22]['person_emp_length'].median()\n",
    "# Replace person_emp_length with the median value for age 22\n",
    "train_origin.loc[train_origin['person_age'] == 22, 'person_emp_length'] = median_emp_length_22\n",
    "\n",
    "median_emp_length_28 = train_origin[train_origin['person_age']== 28]['person_emp_length'].median()\n",
    "# Replace person_emp_length with the median value for age 28\n",
    "train_origin.loc[train_origin['person_age'] == 28, 'person_emp_length'] = median_emp_length_28"
   ]
  },
  {
   "cell_type": "code",
   "execution_count": 29,
   "id": "9c7bfcf1",
   "metadata": {
    "execution": {
     "iopub.execute_input": "2024-10-14T13:29:27.280415Z",
     "iopub.status.busy": "2024-10-14T13:29:27.279993Z",
     "iopub.status.idle": "2024-10-14T13:29:27.287177Z",
     "shell.execute_reply": "2024-10-14T13:29:27.285884Z"
    },
    "papermill": {
     "duration": 0.033727,
     "end_time": "2024-10-14T13:29:27.289804",
     "exception": false,
     "start_time": "2024-10-14T13:29:27.256077",
     "status": "completed"
    },
    "tags": []
   },
   "outputs": [
    {
     "data": {
      "text/plain": [
       "91214"
      ]
     },
     "execution_count": 29,
     "metadata": {},
     "output_type": "execute_result"
    }
   ],
   "source": [
    "# treshhold to separate train_df and test_df\n",
    "limit = train_origin.shape[0]\n",
    "limit"
   ]
  },
  {
   "cell_type": "code",
   "execution_count": 30,
   "id": "2153f499",
   "metadata": {
    "execution": {
     "iopub.execute_input": "2024-10-14T13:29:27.336847Z",
     "iopub.status.busy": "2024-10-14T13:29:27.336423Z",
     "iopub.status.idle": "2024-10-14T13:29:27.344644Z",
     "shell.execute_reply": "2024-10-14T13:29:27.343658Z"
    },
    "papermill": {
     "duration": 0.034911,
     "end_time": "2024-10-14T13:29:27.347213",
     "exception": false,
     "start_time": "2024-10-14T13:29:27.312302",
     "status": "completed"
    },
    "tags": []
   },
   "outputs": [],
   "source": [
    "test = test.drop('id', axis=1)"
   ]
  },
  {
   "cell_type": "code",
   "execution_count": 31,
   "id": "d17020e6",
   "metadata": {
    "execution": {
     "iopub.execute_input": "2024-10-14T13:29:27.395642Z",
     "iopub.status.busy": "2024-10-14T13:29:27.395188Z",
     "iopub.status.idle": "2024-10-14T13:29:27.410410Z",
     "shell.execute_reply": "2024-10-14T13:29:27.408874Z"
    },
    "papermill": {
     "duration": 0.042677,
     "end_time": "2024-10-14T13:29:27.413081",
     "exception": false,
     "start_time": "2024-10-14T13:29:27.370404",
     "status": "completed"
    },
    "tags": []
   },
   "outputs": [],
   "source": [
    "df = pd.concat([train_origin, test], axis=0, ignore_index=True)"
   ]
  },
  {
   "cell_type": "code",
   "execution_count": 32,
   "id": "5851b5ed",
   "metadata": {
    "execution": {
     "iopub.execute_input": "2024-10-14T13:29:27.461141Z",
     "iopub.status.busy": "2024-10-14T13:29:27.460681Z",
     "iopub.status.idle": "2024-10-14T13:29:27.468182Z",
     "shell.execute_reply": "2024-10-14T13:29:27.466901Z"
    },
    "papermill": {
     "duration": 0.03465,
     "end_time": "2024-10-14T13:29:27.470607",
     "exception": false,
     "start_time": "2024-10-14T13:29:27.435957",
     "status": "completed"
    },
    "tags": []
   },
   "outputs": [
    {
     "data": {
      "text/plain": [
       "(130312, 12)"
      ]
     },
     "execution_count": 32,
     "metadata": {},
     "output_type": "execute_result"
    }
   ],
   "source": [
    "df.shape"
   ]
  },
  {
   "cell_type": "code",
   "execution_count": 33,
   "id": "c74d6c60",
   "metadata": {
    "execution": {
     "iopub.execute_input": "2024-10-14T13:29:27.518590Z",
     "iopub.status.busy": "2024-10-14T13:29:27.518155Z",
     "iopub.status.idle": "2024-10-14T13:29:27.547290Z",
     "shell.execute_reply": "2024-10-14T13:29:27.546158Z"
    },
    "papermill": {
     "duration": 0.056614,
     "end_time": "2024-10-14T13:29:27.549905",
     "exception": false,
     "start_time": "2024-10-14T13:29:27.493291",
     "status": "completed"
    },
    "tags": []
   },
   "outputs": [
    {
     "data": {
      "text/plain": [
       "loan_int_rate                 7.964602\n",
       "person_emp_length             1.872219\n",
       "person_age                    0.000000\n",
       "person_income                 0.000000\n",
       "person_home_ownership         0.000000\n",
       "loan_intent                   0.000000\n",
       "loan_grade                    0.000000\n",
       "loan_amnt                     0.000000\n",
       "loan_percent_income           0.000000\n",
       "cb_person_default_on_file     0.000000\n",
       "cb_person_cred_hist_length    0.000000\n",
       "loan_status                   0.000000\n",
       "dtype: float64"
      ]
     },
     "execution_count": 33,
     "metadata": {},
     "output_type": "execute_result"
    }
   ],
   "source": [
    "100 * (train_origin.isna().sum()/len(test)).sort_values(ascending=False)"
   ]
  },
  {
   "cell_type": "markdown",
   "id": "a78c1173",
   "metadata": {
    "papermill": {
     "duration": 0.022639,
     "end_time": "2024-10-14T13:29:27.595224",
     "exception": false,
     "start_time": "2024-10-14T13:29:27.572585",
     "status": "completed"
    },
    "tags": []
   },
   "source": [
    "**Fill missing values, with median**"
   ]
  },
  {
   "cell_type": "code",
   "execution_count": 34,
   "id": "736a1cec",
   "metadata": {
    "execution": {
     "iopub.execute_input": "2024-10-14T13:29:27.644438Z",
     "iopub.status.busy": "2024-10-14T13:29:27.643988Z",
     "iopub.status.idle": "2024-10-14T13:29:27.658965Z",
     "shell.execute_reply": "2024-10-14T13:29:27.657878Z"
    },
    "papermill": {
     "duration": 0.042553,
     "end_time": "2024-10-14T13:29:27.661593",
     "exception": false,
     "start_time": "2024-10-14T13:29:27.619040",
     "status": "completed"
    },
    "tags": []
   },
   "outputs": [],
   "source": [
    "df['person_emp_length']  = df['person_emp_length'].fillna(df['person_emp_length'].median())\n",
    "df['loan_int_rate']  = df['loan_int_rate'].fillna(df['loan_int_rate'].median())"
   ]
  },
  {
   "cell_type": "code",
   "execution_count": 35,
   "id": "65b023c7",
   "metadata": {
    "execution": {
     "iopub.execute_input": "2024-10-14T13:29:27.710093Z",
     "iopub.status.busy": "2024-10-14T13:29:27.709007Z",
     "iopub.status.idle": "2024-10-14T13:29:27.746674Z",
     "shell.execute_reply": "2024-10-14T13:29:27.745367Z"
    },
    "papermill": {
     "duration": 0.064898,
     "end_time": "2024-10-14T13:29:27.749550",
     "exception": false,
     "start_time": "2024-10-14T13:29:27.684652",
     "status": "completed"
    },
    "tags": []
   },
   "outputs": [
    {
     "data": {
      "text/plain": [
       "person_age                        0\n",
       "person_income                     0\n",
       "person_home_ownership             0\n",
       "person_emp_length                 0\n",
       "loan_intent                       0\n",
       "loan_grade                        0\n",
       "loan_amnt                         0\n",
       "loan_int_rate                     0\n",
       "loan_percent_income               0\n",
       "cb_person_default_on_file         0\n",
       "cb_person_cred_hist_length        0\n",
       "loan_status                   39098\n",
       "dtype: int64"
      ]
     },
     "execution_count": 35,
     "metadata": {},
     "output_type": "execute_result"
    }
   ],
   "source": [
    "df.isna().sum()"
   ]
  },
  {
   "cell_type": "markdown",
   "id": "b782beb2",
   "metadata": {
    "papermill": {
     "duration": 0.0235,
     "end_time": "2024-10-14T13:29:27.796301",
     "exception": false,
     "start_time": "2024-10-14T13:29:27.772801",
     "status": "completed"
    },
    "tags": []
   },
   "source": [
    "**Create new additional feature**"
   ]
  },
  {
   "cell_type": "code",
   "execution_count": 36,
   "id": "970927dd",
   "metadata": {
    "execution": {
     "iopub.execute_input": "2024-10-14T13:29:27.846089Z",
     "iopub.status.busy": "2024-10-14T13:29:27.845631Z",
     "iopub.status.idle": "2024-10-14T13:29:27.953788Z",
     "shell.execute_reply": "2024-10-14T13:29:27.952555Z"
    },
    "papermill": {
     "duration": 0.136628,
     "end_time": "2024-10-14T13:29:27.956814",
     "exception": false,
     "start_time": "2024-10-14T13:29:27.820186",
     "status": "completed"
    },
    "tags": []
   },
   "outputs": [],
   "source": [
    "#Debt-to-Income Ratio\n",
    "df['dti'] = df['loan_amnt'] / df['person_income']\n",
    "\n",
    "#Employment Stability\n",
    "df['emp_stability'] = df['person_emp_length'].apply(lambda x: 1 if x > 5 else 0)\n",
    "\n",
    "#Home Ownership Binary Feature\n",
    "def cred_hist_category(cred_hist_length):\n",
    "    if cred_hist_length < 5:\n",
    "        return 'short_history'\n",
    "    elif 5 <= cred_hist_length <= 10:\n",
    "        return 'medium_history'\n",
    "    else:\n",
    "        return 'long_history'\n",
    "\n",
    "df['cred_hist_category'] = df['cb_person_cred_hist_length'].apply(cred_hist_category)\n"
   ]
  },
  {
   "cell_type": "code",
   "execution_count": 37,
   "id": "b1264479",
   "metadata": {
    "execution": {
     "iopub.execute_input": "2024-10-14T13:29:28.005593Z",
     "iopub.status.busy": "2024-10-14T13:29:28.005150Z",
     "iopub.status.idle": "2024-10-14T13:29:28.023965Z",
     "shell.execute_reply": "2024-10-14T13:29:28.022913Z"
    },
    "papermill": {
     "duration": 0.046298,
     "end_time": "2024-10-14T13:29:28.026561",
     "exception": false,
     "start_time": "2024-10-14T13:29:27.980263",
     "status": "completed"
    },
    "tags": []
   },
   "outputs": [
    {
     "data": {
      "text/html": [
       "<div>\n",
       "<style scoped>\n",
       "    .dataframe tbody tr th:only-of-type {\n",
       "        vertical-align: middle;\n",
       "    }\n",
       "\n",
       "    .dataframe tbody tr th {\n",
       "        vertical-align: top;\n",
       "    }\n",
       "\n",
       "    .dataframe thead th {\n",
       "        text-align: right;\n",
       "    }\n",
       "</style>\n",
       "<table border=\"1\" class=\"dataframe\">\n",
       "  <thead>\n",
       "    <tr style=\"text-align: right;\">\n",
       "      <th></th>\n",
       "      <th>person_age</th>\n",
       "      <th>person_income</th>\n",
       "      <th>person_home_ownership</th>\n",
       "      <th>person_emp_length</th>\n",
       "      <th>loan_intent</th>\n",
       "      <th>loan_grade</th>\n",
       "      <th>loan_amnt</th>\n",
       "      <th>loan_int_rate</th>\n",
       "      <th>loan_percent_income</th>\n",
       "      <th>cb_person_default_on_file</th>\n",
       "      <th>cb_person_cred_hist_length</th>\n",
       "      <th>loan_status</th>\n",
       "      <th>dti</th>\n",
       "      <th>emp_stability</th>\n",
       "      <th>cred_hist_category</th>\n",
       "    </tr>\n",
       "  </thead>\n",
       "  <tbody>\n",
       "    <tr>\n",
       "      <th>0</th>\n",
       "      <td>37</td>\n",
       "      <td>35000</td>\n",
       "      <td>RENT</td>\n",
       "      <td>0.0</td>\n",
       "      <td>EDUCATION</td>\n",
       "      <td>B</td>\n",
       "      <td>6000</td>\n",
       "      <td>11.49</td>\n",
       "      <td>0.17</td>\n",
       "      <td>N</td>\n",
       "      <td>14</td>\n",
       "      <td>0.0</td>\n",
       "      <td>0.171429</td>\n",
       "      <td>0</td>\n",
       "      <td>long_history</td>\n",
       "    </tr>\n",
       "    <tr>\n",
       "      <th>1</th>\n",
       "      <td>22</td>\n",
       "      <td>56000</td>\n",
       "      <td>OWN</td>\n",
       "      <td>4.0</td>\n",
       "      <td>MEDICAL</td>\n",
       "      <td>C</td>\n",
       "      <td>4000</td>\n",
       "      <td>13.35</td>\n",
       "      <td>0.07</td>\n",
       "      <td>N</td>\n",
       "      <td>2</td>\n",
       "      <td>0.0</td>\n",
       "      <td>0.071429</td>\n",
       "      <td>0</td>\n",
       "      <td>short_history</td>\n",
       "    </tr>\n",
       "    <tr>\n",
       "      <th>2</th>\n",
       "      <td>29</td>\n",
       "      <td>28800</td>\n",
       "      <td>OWN</td>\n",
       "      <td>8.0</td>\n",
       "      <td>PERSONAL</td>\n",
       "      <td>A</td>\n",
       "      <td>6000</td>\n",
       "      <td>8.90</td>\n",
       "      <td>0.21</td>\n",
       "      <td>N</td>\n",
       "      <td>10</td>\n",
       "      <td>0.0</td>\n",
       "      <td>0.208333</td>\n",
       "      <td>1</td>\n",
       "      <td>medium_history</td>\n",
       "    </tr>\n",
       "  </tbody>\n",
       "</table>\n",
       "</div>"
      ],
      "text/plain": [
       "   person_age  person_income person_home_ownership  person_emp_length  \\\n",
       "0          37          35000                  RENT                0.0   \n",
       "1          22          56000                   OWN                4.0   \n",
       "2          29          28800                   OWN                8.0   \n",
       "\n",
       "  loan_intent loan_grade  loan_amnt  loan_int_rate  loan_percent_income  \\\n",
       "0   EDUCATION          B       6000          11.49                 0.17   \n",
       "1     MEDICAL          C       4000          13.35                 0.07   \n",
       "2    PERSONAL          A       6000           8.90                 0.21   \n",
       "\n",
       "  cb_person_default_on_file  cb_person_cred_hist_length  loan_status  \\\n",
       "0                         N                          14          0.0   \n",
       "1                         N                           2          0.0   \n",
       "2                         N                          10          0.0   \n",
       "\n",
       "        dti  emp_stability cred_hist_category  \n",
       "0  0.171429              0       long_history  \n",
       "1  0.071429              0      short_history  \n",
       "2  0.208333              1     medium_history  "
      ]
     },
     "execution_count": 37,
     "metadata": {},
     "output_type": "execute_result"
    }
   ],
   "source": [
    "df.head(3)"
   ]
  },
  {
   "cell_type": "code",
   "execution_count": 38,
   "id": "9051550e",
   "metadata": {
    "execution": {
     "iopub.execute_input": "2024-10-14T13:29:28.075529Z",
     "iopub.status.busy": "2024-10-14T13:29:28.075104Z",
     "iopub.status.idle": "2024-10-14T13:29:28.124117Z",
     "shell.execute_reply": "2024-10-14T13:29:28.122818Z"
    },
    "papermill": {
     "duration": 0.07737,
     "end_time": "2024-10-14T13:29:28.127074",
     "exception": false,
     "start_time": "2024-10-14T13:29:28.049704",
     "status": "completed"
    },
    "tags": []
   },
   "outputs": [],
   "source": [
    "#df_encoded = pd.get_dummies(df, drop_first=True, dtype='int')\n",
    "loan_grade_dict = {'A': 0, 'B': 1, 'C': 2, 'D': 3, 'E': 4, 'F': 5, 'G': 6}\n",
    "cb_person_default_on_file_dict = {'N': 0, 'Y':1}\n",
    "cred_hist_category_dict = {'long_history': 0, 'medium_history': 1, 'short_history': 2}\n",
    "person_home_ownership_dict = {'RENT': 0, 'MORTGAGE': 1, 'OWN': 2, 'OTHER': 3}\n",
    "loan_intent_dict = {'EDUCATION': 0, 'MEDICAL': 1, 'PERSONAL': 2, 'VENTURE': 3, 'DEBTCONSOLIDATION': 4, 'HOMEIMPROVEMENT': 5}\n",
    "\n",
    "df['loan_grade'] = df['loan_grade'].map(loan_grade_dict)\n",
    "df['cb_person_default_on_file'] = df['cb_person_default_on_file'].map(cb_person_default_on_file_dict)\n",
    "df['person_home_ownership'] = df['person_home_ownership'].map(person_home_ownership_dict)\n",
    "df['loan_intent'] = df['loan_intent'].map(loan_intent_dict)\n",
    "df['cred_hist_category'] = df['cred_hist_category'].map(cred_hist_category_dict)"
   ]
  },
  {
   "cell_type": "code",
   "execution_count": 39,
   "id": "b62a92ed",
   "metadata": {
    "execution": {
     "iopub.execute_input": "2024-10-14T13:29:28.175294Z",
     "iopub.status.busy": "2024-10-14T13:29:28.174835Z",
     "iopub.status.idle": "2024-10-14T13:29:28.192121Z",
     "shell.execute_reply": "2024-10-14T13:29:28.190811Z"
    },
    "papermill": {
     "duration": 0.044381,
     "end_time": "2024-10-14T13:29:28.194519",
     "exception": false,
     "start_time": "2024-10-14T13:29:28.150138",
     "status": "completed"
    },
    "tags": []
   },
   "outputs": [
    {
     "data": {
      "text/html": [
       "<div>\n",
       "<style scoped>\n",
       "    .dataframe tbody tr th:only-of-type {\n",
       "        vertical-align: middle;\n",
       "    }\n",
       "\n",
       "    .dataframe tbody tr th {\n",
       "        vertical-align: top;\n",
       "    }\n",
       "\n",
       "    .dataframe thead th {\n",
       "        text-align: right;\n",
       "    }\n",
       "</style>\n",
       "<table border=\"1\" class=\"dataframe\">\n",
       "  <thead>\n",
       "    <tr style=\"text-align: right;\">\n",
       "      <th></th>\n",
       "      <th>person_age</th>\n",
       "      <th>person_income</th>\n",
       "      <th>person_home_ownership</th>\n",
       "      <th>person_emp_length</th>\n",
       "      <th>loan_intent</th>\n",
       "      <th>loan_grade</th>\n",
       "      <th>loan_amnt</th>\n",
       "      <th>loan_int_rate</th>\n",
       "      <th>loan_percent_income</th>\n",
       "      <th>cb_person_default_on_file</th>\n",
       "      <th>cb_person_cred_hist_length</th>\n",
       "      <th>loan_status</th>\n",
       "      <th>dti</th>\n",
       "      <th>emp_stability</th>\n",
       "      <th>cred_hist_category</th>\n",
       "    </tr>\n",
       "  </thead>\n",
       "  <tbody>\n",
       "    <tr>\n",
       "      <th>0</th>\n",
       "      <td>37</td>\n",
       "      <td>35000</td>\n",
       "      <td>0</td>\n",
       "      <td>0.0</td>\n",
       "      <td>0</td>\n",
       "      <td>1</td>\n",
       "      <td>6000</td>\n",
       "      <td>11.49</td>\n",
       "      <td>0.17</td>\n",
       "      <td>0</td>\n",
       "      <td>14</td>\n",
       "      <td>0.0</td>\n",
       "      <td>0.171429</td>\n",
       "      <td>0</td>\n",
       "      <td>0</td>\n",
       "    </tr>\n",
       "    <tr>\n",
       "      <th>1</th>\n",
       "      <td>22</td>\n",
       "      <td>56000</td>\n",
       "      <td>2</td>\n",
       "      <td>4.0</td>\n",
       "      <td>1</td>\n",
       "      <td>2</td>\n",
       "      <td>4000</td>\n",
       "      <td>13.35</td>\n",
       "      <td>0.07</td>\n",
       "      <td>0</td>\n",
       "      <td>2</td>\n",
       "      <td>0.0</td>\n",
       "      <td>0.071429</td>\n",
       "      <td>0</td>\n",
       "      <td>2</td>\n",
       "    </tr>\n",
       "    <tr>\n",
       "      <th>2</th>\n",
       "      <td>29</td>\n",
       "      <td>28800</td>\n",
       "      <td>2</td>\n",
       "      <td>8.0</td>\n",
       "      <td>2</td>\n",
       "      <td>0</td>\n",
       "      <td>6000</td>\n",
       "      <td>8.90</td>\n",
       "      <td>0.21</td>\n",
       "      <td>0</td>\n",
       "      <td>10</td>\n",
       "      <td>0.0</td>\n",
       "      <td>0.208333</td>\n",
       "      <td>1</td>\n",
       "      <td>1</td>\n",
       "    </tr>\n",
       "  </tbody>\n",
       "</table>\n",
       "</div>"
      ],
      "text/plain": [
       "   person_age  person_income  person_home_ownership  person_emp_length  \\\n",
       "0          37          35000                      0                0.0   \n",
       "1          22          56000                      2                4.0   \n",
       "2          29          28800                      2                8.0   \n",
       "\n",
       "   loan_intent  loan_grade  loan_amnt  loan_int_rate  loan_percent_income  \\\n",
       "0            0           1       6000          11.49                 0.17   \n",
       "1            1           2       4000          13.35                 0.07   \n",
       "2            2           0       6000           8.90                 0.21   \n",
       "\n",
       "   cb_person_default_on_file  cb_person_cred_hist_length  loan_status  \\\n",
       "0                          0                          14          0.0   \n",
       "1                          0                           2          0.0   \n",
       "2                          0                          10          0.0   \n",
       "\n",
       "        dti  emp_stability  cred_hist_category  \n",
       "0  0.171429              0                   0  \n",
       "1  0.071429              0                   2  \n",
       "2  0.208333              1                   1  "
      ]
     },
     "execution_count": 39,
     "metadata": {},
     "output_type": "execute_result"
    }
   ],
   "source": [
    "df.head(3)"
   ]
  },
  {
   "cell_type": "code",
   "execution_count": 40,
   "id": "2135f9ba",
   "metadata": {
    "execution": {
     "iopub.execute_input": "2024-10-14T13:29:28.244384Z",
     "iopub.status.busy": "2024-10-14T13:29:28.243971Z",
     "iopub.status.idle": "2024-10-14T13:29:28.250053Z",
     "shell.execute_reply": "2024-10-14T13:29:28.248924Z"
    },
    "papermill": {
     "duration": 0.03414,
     "end_time": "2024-10-14T13:29:28.252536",
     "exception": false,
     "start_time": "2024-10-14T13:29:28.218396",
     "status": "completed"
    },
    "tags": []
   },
   "outputs": [],
   "source": [
    "train_df = df.iloc[:limit, :]\n",
    "test_df = df.iloc[limit:, :]"
   ]
  },
  {
   "cell_type": "code",
   "execution_count": 41,
   "id": "28d4ac16",
   "metadata": {
    "execution": {
     "iopub.execute_input": "2024-10-14T13:29:28.302680Z",
     "iopub.status.busy": "2024-10-14T13:29:28.301575Z",
     "iopub.status.idle": "2024-10-14T13:29:28.308677Z",
     "shell.execute_reply": "2024-10-14T13:29:28.307582Z"
    },
    "papermill": {
     "duration": 0.03495,
     "end_time": "2024-10-14T13:29:28.311062",
     "exception": false,
     "start_time": "2024-10-14T13:29:28.276112",
     "status": "completed"
    },
    "tags": []
   },
   "outputs": [
    {
     "data": {
      "text/plain": [
       "(91214, 15)"
      ]
     },
     "execution_count": 41,
     "metadata": {},
     "output_type": "execute_result"
    }
   ],
   "source": [
    "train_df.shape"
   ]
  },
  {
   "cell_type": "code",
   "execution_count": 42,
   "id": "26924828",
   "metadata": {
    "execution": {
     "iopub.execute_input": "2024-10-14T13:29:28.361726Z",
     "iopub.status.busy": "2024-10-14T13:29:28.361297Z",
     "iopub.status.idle": "2024-10-14T13:29:28.376240Z",
     "shell.execute_reply": "2024-10-14T13:29:28.375104Z"
    },
    "papermill": {
     "duration": 0.043368,
     "end_time": "2024-10-14T13:29:28.378946",
     "exception": false,
     "start_time": "2024-10-14T13:29:28.335578",
     "status": "completed"
    },
    "tags": []
   },
   "outputs": [],
   "source": [
    "y = train_df['loan_status']\n",
    "X = train_df.drop('loan_status', axis=1)"
   ]
  },
  {
   "cell_type": "markdown",
   "id": "e42ad257",
   "metadata": {
    "papermill": {
     "duration": 0.025168,
     "end_time": "2024-10-14T13:29:28.429343",
     "exception": false,
     "start_time": "2024-10-14T13:29:28.404175",
     "status": "completed"
    },
    "tags": []
   },
   "source": [
    "**RandomForestClassifier**"
   ]
  },
  {
   "cell_type": "code",
   "execution_count": 43,
   "id": "a9d976f7",
   "metadata": {
    "execution": {
     "iopub.execute_input": "2024-10-14T13:29:28.480139Z",
     "iopub.status.busy": "2024-10-14T13:29:28.479265Z",
     "iopub.status.idle": "2024-10-14T13:30:43.952528Z",
     "shell.execute_reply": "2024-10-14T13:30:43.949378Z"
    },
    "papermill": {
     "duration": 75.504551,
     "end_time": "2024-10-14T13:30:43.958220",
     "exception": false,
     "start_time": "2024-10-14T13:29:28.453669",
     "status": "completed"
    },
    "tags": []
   },
   "outputs": [
    {
     "name": "stdout",
     "output_type": "stream",
     "text": [
      "0.9380980591539221\n",
      "0.9393319518400496\n",
      "0.9503575178477155\n",
      "0.9174529870626209\n",
      "0.9221287331598454\n",
      "Average AUC: 0.9335\n"
     ]
    }
   ],
   "source": [
    "import pandas as pd\n",
    "from sklearn.model_selection import StratifiedKFold\n",
    "from sklearn.ensemble import RandomForestClassifier\n",
    "from sklearn.metrics import roc_auc_score\n",
    "\n",
    "\n",
    "# Define StratifiedKFold\n",
    "skf = StratifiedKFold(n_splits=5)  # 5-fold cross-validation\n",
    "\n",
    "# Model to train\n",
    "model_rf = RandomForestClassifier(class_weight='balanced', random_state=42)\n",
    "\n",
    "\n",
    "# List to store AUC scores\n",
    "auc_scores = []\n",
    "\n",
    "# Cross-validation process\n",
    "for train_index, test_index in skf.split(X, y):\n",
    "    X_train, X_test = X.iloc[train_index], X.iloc[test_index]\n",
    "    y_train, y_test = y.iloc[train_index], y.iloc[test_index]\n",
    "    \n",
    "    # Train the model\n",
    "    model_rf.fit(X_train, y_train)\n",
    "    \n",
    "    # Get predicted probabilities for the positive class\n",
    "    y_prob = model_rf.predict_proba(X_test)[:, 1]\n",
    "    \n",
    "    # Calculate AUC\n",
    "    auc = roc_auc_score(y_test, y_prob)\n",
    "    print(auc)\n",
    "    auc_scores.append(auc)\n",
    "\n",
    "# Average AUC across all folds\n",
    "print(f\"Average AUC: {sum(auc_scores) / len(auc_scores):.4f}\")\n"
   ]
  },
  {
   "cell_type": "markdown",
   "id": "d5dc8c2d",
   "metadata": {
    "papermill": {
     "duration": 0.036878,
     "end_time": "2024-10-14T13:30:44.029227",
     "exception": false,
     "start_time": "2024-10-14T13:30:43.992349",
     "status": "completed"
    },
    "tags": []
   },
   "source": [
    "**XGBoostClassifier**"
   ]
  },
  {
   "cell_type": "code",
   "execution_count": 44,
   "id": "6272109a",
   "metadata": {
    "execution": {
     "iopub.execute_input": "2024-10-14T13:30:44.084072Z",
     "iopub.status.busy": "2024-10-14T13:30:44.083623Z",
     "iopub.status.idle": "2024-10-14T13:30:47.473922Z",
     "shell.execute_reply": "2024-10-14T13:30:47.472441Z"
    },
    "papermill": {
     "duration": 3.418831,
     "end_time": "2024-10-14T13:30:47.477038",
     "exception": false,
     "start_time": "2024-10-14T13:30:44.058207",
     "status": "completed"
    },
    "tags": []
   },
   "outputs": [
    {
     "name": "stdout",
     "output_type": "stream",
     "text": [
      "0.9566834679795585\n",
      "0.9575649116701276\n",
      "0.9604510262922031\n",
      "0.9431779166908234\n",
      "0.9377525597436148\n",
      "Average AUC: 0.9511\n"
     ]
    }
   ],
   "source": [
    "import xgboost as xgb\n",
    "from sklearn.model_selection import StratifiedKFold\n",
    "from sklearn.metrics import roc_auc_score\n",
    "\n",
    "\n",
    "# Define StratifiedKFold\n",
    "skf = StratifiedKFold(n_splits=5)  # 5-fold cross-validation\n",
    "\n",
    "# Model to train\n",
    "model_xgb = xgb.XGBClassifier(\n",
    "    scale_pos_weight=4,  # Adjust this based on imbalance ratio\n",
    "    use_label_encoder=False,  # Avoids label encoding warning\n",
    "    eval_metric='auc',  # Use AUC as the evaluation metric\n",
    "    random_state=42\n",
    ")\n",
    "\n",
    "\n",
    "# List to store AUC scores\n",
    "auc_scores = []\n",
    "\n",
    "# Cross-validation process\n",
    "for train_index, test_index in skf.split(X, y):\n",
    "    X_train, X_test = X.iloc[train_index], X.iloc[test_index]\n",
    "    y_train, y_test = y.iloc[train_index], y.iloc[test_index]\n",
    "    \n",
    "    # Train the model\n",
    "    model_xgb.fit(X_train, y_train)\n",
    "    \n",
    "    # Get predicted probabilities for the positive class\n",
    "    y_prob = model_xgb.predict_proba(X_test)[:, 1]\n",
    "    \n",
    "    # Calculate AUC\n",
    "    auc = roc_auc_score(y_test, y_prob)\n",
    "    print(auc)\n",
    "    auc_scores.append(auc)\n",
    "\n",
    "# Average AUC across all folds\n",
    "print(f\"Average AUC: {sum(auc_scores) / len(auc_scores):.4f}\")\n"
   ]
  },
  {
   "cell_type": "markdown",
   "id": "fa6ead16",
   "metadata": {
    "papermill": {
     "duration": 0.023948,
     "end_time": "2024-10-14T13:30:47.527881",
     "exception": false,
     "start_time": "2024-10-14T13:30:47.503933",
     "status": "completed"
    },
    "tags": []
   },
   "source": [
    "**CatBoostClassifier**"
   ]
  },
  {
   "cell_type": "code",
   "execution_count": 45,
   "id": "fdfcc777",
   "metadata": {
    "execution": {
     "iopub.execute_input": "2024-10-14T13:30:47.579395Z",
     "iopub.status.busy": "2024-10-14T13:30:47.578935Z",
     "iopub.status.idle": "2024-10-14T13:31:48.944468Z",
     "shell.execute_reply": "2024-10-14T13:31:48.943328Z"
    },
    "papermill": {
     "duration": 61.394925,
     "end_time": "2024-10-14T13:31:48.946945",
     "exception": false,
     "start_time": "2024-10-14T13:30:47.552020",
     "status": "completed"
    },
    "tags": []
   },
   "outputs": [
    {
     "name": "stdout",
     "output_type": "stream",
     "text": [
      "0.9605445152445513\n",
      "0.961959461472919\n",
      "0.9649998872924164\n",
      "0.944897262341331\n",
      "0.9446410288270085\n",
      "Average AUC: 0.9554\n"
     ]
    }
   ],
   "source": [
    "from catboost import CatBoostClassifier\n",
    "from sklearn.model_selection import StratifiedKFold\n",
    "from sklearn.metrics import roc_auc_score\n",
    "\n",
    "\n",
    "# Define StratifiedKFold\n",
    "skf = StratifiedKFold(n_splits=5)  # 5-fold cross-validation\n",
    "\n",
    "# Model to train\n",
    "model_cat = CatBoostClassifier(\n",
    "    iterations=1000,             # Number of boosting iterations\n",
    "    learning_rate=0.1,           # Learning rate\n",
    "    depth=4,                     # Depth of the trees\n",
    "    class_weights=[1, 4],        # Adjust class weights (example: 1 for majority, 4 for minority)\n",
    "    eval_metric='AUC',           # Use AUC as the evaluation metric\n",
    "    random_seed=42,\n",
    "    verbose=100                  # Print progress every 100 iterations\n",
    ")\n",
    "\n",
    "# List to store AUC scores\n",
    "auc_scores = []\n",
    "\n",
    "# Cross-validation process\n",
    "for train_index, test_index in skf.split(X, y):\n",
    "    X_train, X_test = X.iloc[train_index], X.iloc[test_index]\n",
    "    y_train, y_test = y.iloc[train_index], y.iloc[test_index]\n",
    "    \n",
    "    # Train the model\n",
    "    model_cat.fit(X_train, y_train, verbose=False)\n",
    "    \n",
    "    # Get predicted probabilities for the positive class\n",
    "    y_prob = model_cat.predict_proba(X_test)[:, 1]\n",
    "    \n",
    "    # Calculate AUC\n",
    "    auc = roc_auc_score(y_test, y_prob)\n",
    "    print(auc)\n",
    "    auc_scores.append(auc)\n",
    "\n",
    "# Average AUC across all folds\n",
    "print(f\"Average AUC: {sum(auc_scores) / len(auc_scores):.4f}\")\n"
   ]
  },
  {
   "cell_type": "markdown",
   "id": "ee66a173",
   "metadata": {
    "papermill": {
     "duration": 0.024229,
     "end_time": "2024-10-14T13:31:48.995549",
     "exception": false,
     "start_time": "2024-10-14T13:31:48.971320",
     "status": "completed"
    },
    "tags": []
   },
   "source": [
    "**LGBMClassifier**"
   ]
  },
  {
   "cell_type": "code",
   "execution_count": 46,
   "id": "d2ff9ecb",
   "metadata": {
    "execution": {
     "iopub.execute_input": "2024-10-14T13:31:49.047603Z",
     "iopub.status.busy": "2024-10-14T13:31:49.047199Z",
     "iopub.status.idle": "2024-10-14T13:32:46.133385Z",
     "shell.execute_reply": "2024-10-14T13:32:46.131272Z"
    },
    "papermill": {
     "duration": 57.115773,
     "end_time": "2024-10-14T13:32:46.136658",
     "exception": false,
     "start_time": "2024-10-14T13:31:49.020885",
     "status": "completed"
    },
    "tags": []
   },
   "outputs": [
    {
     "name": "stdout",
     "output_type": "stream",
     "text": [
      "0.9603276253878735\n",
      "0.9625203204515681\n",
      "0.965249957243695\n",
      "0.9468397177767951\n",
      "0.9410744520473839\n",
      "Average AUC: 0.9552\n"
     ]
    }
   ],
   "source": [
    "import lightgbm as lgb\n",
    "from sklearn.model_selection import StratifiedKFold\n",
    "from sklearn.metrics import roc_auc_score\n",
    "\n",
    "\n",
    "# Define StratifiedKFold\n",
    "skf = StratifiedKFold(n_splits=5)  # 5-fold cross-validation\n",
    "\n",
    "# Model to train\n",
    "model_lgb = lgb.LGBMClassifier(\n",
    "    n_estimators=1000,            # Number of boosting iterations\n",
    "    learning_rate=0.1,            # Learning rate\n",
    "    max_depth=4,                  # Depth of the trees\n",
    "    class_weight='balanced',      # Automatically adjust weights for class imbalance\n",
    "    random_state=42,\n",
    "    verbose=-1\n",
    ")\n",
    "\n",
    "# List to store AUC scores\n",
    "auc_scores = []\n",
    "\n",
    "# Cross-validation process\n",
    "for train_index, test_index in skf.split(X, y):\n",
    "    X_train, X_test = X.iloc[train_index], X.iloc[test_index]\n",
    "    y_train, y_test = y.iloc[train_index], y.iloc[test_index]\n",
    "    \n",
    "    # Train the model\n",
    "    model_lgb.fit(X_train, y_train)\n",
    "    \n",
    "    # Get predicted probabilities for the positive class\n",
    "    y_prob = model_lgb.predict_proba(X_test)[:, 1]\n",
    "    \n",
    "    # Calculate AUC\n",
    "    auc = roc_auc_score(y_test, y_prob)\n",
    "    print(auc)\n",
    "    auc_scores.append(auc)\n",
    "\n",
    "# Average AUC across all folds\n",
    "print(f\"Average AUC: {sum(auc_scores) / len(auc_scores):.4f}\")\n"
   ]
  },
  {
   "cell_type": "markdown",
   "id": "5b4db0f0",
   "metadata": {
    "papermill": {
     "duration": 0.026059,
     "end_time": "2024-10-14T13:32:46.189783",
     "exception": false,
     "start_time": "2024-10-14T13:32:46.163724",
     "status": "completed"
    },
    "tags": []
   },
   "source": [
    "**GradientBoostingClassifier**"
   ]
  },
  {
   "cell_type": "code",
   "execution_count": 47,
   "id": "3087fb7a",
   "metadata": {
    "execution": {
     "iopub.execute_input": "2024-10-14T13:32:46.243917Z",
     "iopub.status.busy": "2024-10-14T13:32:46.243174Z",
     "iopub.status.idle": "2024-10-14T13:45:57.987259Z",
     "shell.execute_reply": "2024-10-14T13:45:57.985665Z"
    },
    "papermill": {
     "duration": 791.799059,
     "end_time": "2024-10-14T13:45:58.015348",
     "exception": false,
     "start_time": "2024-10-14T13:32:46.216289",
     "status": "completed"
    },
    "tags": []
   },
   "outputs": [
    {
     "name": "stdout",
     "output_type": "stream",
     "text": [
      "AUC for fold: 0.9627\n",
      "AUC for fold: 0.9642\n",
      "AUC for fold: 0.9666\n",
      "AUC for fold: 0.9488\n",
      "AUC for fold: 0.9451\n",
      "Average AUC: 0.9575\n"
     ]
    }
   ],
   "source": [
    "from sklearn.ensemble import GradientBoostingClassifier\n",
    "from sklearn.model_selection import StratifiedKFold\n",
    "from sklearn.metrics import roc_auc_score\n",
    "\n",
    "# Define StratifiedKFold\n",
    "skf = StratifiedKFold(n_splits=5)  # 5-fold cross-validation\n",
    "\n",
    "# Model to train\n",
    "model_grb = GradientBoostingClassifier(\n",
    "    n_estimators=1000,            # Number of boosting iterations\n",
    "    learning_rate=0.1,            # Learning rate\n",
    "    max_depth=4                 # Depth of the trees\n",
    ")\n",
    "\n",
    "# List to store AUC scores\n",
    "auc_scores = []\n",
    "\n",
    "# Cross-validation process\n",
    "for train_index, test_index in skf.split(X, y):\n",
    "    X_train, X_test = X.iloc[train_index], X.iloc[test_index]\n",
    "    y_train, y_test = y.iloc[train_index], y.iloc[test_index]\n",
    "    \n",
    "    # Train the model\n",
    "    model_grb.fit(X_train, y_train)\n",
    "    \n",
    "    # Get predicted probabilities for the positive class\n",
    "    y_prob = model_grb.predict_proba(X_test)[:, 1]\n",
    "    \n",
    "    # Calculate AUC\n",
    "    auc = roc_auc_score(y_test, y_prob)\n",
    "    print(f\"AUC for fold: {auc:.4f}\")\n",
    "    auc_scores.append(auc)\n",
    "\n",
    "# Average AUC across all folds\n",
    "print(f\"Average AUC: {sum(auc_scores) / len(auc_scores):.4f}\")\n"
   ]
  },
  {
   "cell_type": "code",
   "execution_count": 48,
   "id": "b826e930",
   "metadata": {
    "execution": {
     "iopub.execute_input": "2024-10-14T13:45:58.068756Z",
     "iopub.status.busy": "2024-10-14T13:45:58.068313Z",
     "iopub.status.idle": "2024-10-14T13:47:19.354206Z",
     "shell.execute_reply": "2024-10-14T13:47:19.352723Z"
    },
    "papermill": {
     "duration": 81.316322,
     "end_time": "2024-10-14T13:47:19.356892",
     "exception": false,
     "start_time": "2024-10-14T13:45:58.040570",
     "status": "completed"
    },
    "tags": []
   },
   "outputs": [
    {
     "name": "stdout",
     "output_type": "stream",
     "text": [
      "0:\ttotal: 10.7ms\tremaining: 15.9s\n",
      "100:\ttotal: 1.05s\tremaining: 14.5s\n",
      "200:\ttotal: 2.07s\tremaining: 13.3s\n",
      "300:\ttotal: 3.09s\tremaining: 12.3s\n",
      "400:\ttotal: 4.12s\tremaining: 11.3s\n",
      "500:\ttotal: 5.19s\tremaining: 10.3s\n",
      "600:\ttotal: 6.27s\tremaining: 9.35s\n",
      "700:\ttotal: 7.32s\tremaining: 8.31s\n",
      "800:\ttotal: 8.66s\tremaining: 7.52s\n",
      "900:\ttotal: 9.89s\tremaining: 6.54s\n",
      "1000:\ttotal: 10.9s\tremaining: 5.4s\n",
      "1100:\ttotal: 11.9s\tremaining: 4.3s\n",
      "1200:\ttotal: 13s\tremaining: 3.2s\n",
      "1300:\ttotal: 14s\tremaining: 2.11s\n",
      "1400:\ttotal: 15s\tremaining: 1.03s\n",
      "1496:\ttotal: 16.1s\tremaining: 0us\n",
      "0.9604129892042743\n",
      "0:\ttotal: 10.6ms\tremaining: 15.9s\n",
      "100:\ttotal: 1.06s\tremaining: 14.7s\n",
      "200:\ttotal: 2.1s\tremaining: 13.6s\n",
      "300:\ttotal: 3.13s\tremaining: 12.4s\n",
      "400:\ttotal: 4.14s\tremaining: 11.3s\n",
      "500:\ttotal: 5.16s\tremaining: 10.3s\n",
      "600:\ttotal: 6.2s\tremaining: 9.24s\n",
      "700:\ttotal: 7.21s\tremaining: 8.19s\n",
      "800:\ttotal: 8.22s\tremaining: 7.14s\n",
      "900:\ttotal: 9.24s\tremaining: 6.11s\n",
      "1000:\ttotal: 10.3s\tremaining: 5.12s\n",
      "1100:\ttotal: 11.4s\tremaining: 4.09s\n",
      "1200:\ttotal: 12.4s\tremaining: 3.06s\n",
      "1300:\ttotal: 13.4s\tremaining: 2.02s\n",
      "1400:\ttotal: 14.5s\tremaining: 992ms\n",
      "1496:\ttotal: 15.5s\tremaining: 0us\n",
      "0.9633251016951135\n",
      "0:\ttotal: 10.6ms\tremaining: 15.9s\n",
      "100:\ttotal: 1.04s\tremaining: 14.4s\n",
      "200:\ttotal: 2.07s\tremaining: 13.4s\n",
      "300:\ttotal: 3.11s\tremaining: 12.4s\n",
      "400:\ttotal: 4.2s\tremaining: 11.5s\n",
      "500:\ttotal: 5.24s\tremaining: 10.4s\n",
      "600:\ttotal: 6.28s\tremaining: 9.36s\n",
      "700:\ttotal: 7.31s\tremaining: 8.3s\n",
      "800:\ttotal: 8.62s\tremaining: 7.49s\n",
      "900:\ttotal: 9.96s\tremaining: 6.59s\n",
      "1000:\ttotal: 11s\tremaining: 5.45s\n",
      "1100:\ttotal: 12s\tremaining: 4.33s\n",
      "1200:\ttotal: 13.1s\tremaining: 3.23s\n",
      "1300:\ttotal: 14.2s\tremaining: 2.14s\n",
      "1400:\ttotal: 15.2s\tremaining: 1.04s\n",
      "1496:\ttotal: 16.2s\tremaining: 0us\n",
      "0.9651780634668359\n",
      "0:\ttotal: 11.2ms\tremaining: 16.7s\n",
      "100:\ttotal: 1.05s\tremaining: 14.6s\n",
      "200:\ttotal: 2.08s\tremaining: 13.4s\n",
      "300:\ttotal: 3.1s\tremaining: 12.3s\n",
      "400:\ttotal: 4.12s\tremaining: 11.3s\n",
      "500:\ttotal: 5.16s\tremaining: 10.3s\n",
      "600:\ttotal: 6.2s\tremaining: 9.24s\n",
      "700:\ttotal: 7.28s\tremaining: 8.26s\n",
      "800:\ttotal: 8.3s\tremaining: 7.21s\n",
      "900:\ttotal: 9.32s\tremaining: 6.17s\n",
      "1000:\ttotal: 10.4s\tremaining: 5.14s\n",
      "1100:\ttotal: 11.4s\tremaining: 4.1s\n",
      "1200:\ttotal: 12.5s\tremaining: 3.07s\n",
      "1300:\ttotal: 13.5s\tremaining: 2.03s\n",
      "1400:\ttotal: 14.5s\tremaining: 994ms\n",
      "1496:\ttotal: 15.5s\tremaining: 0us\n",
      "0.9470844938870224\n",
      "0:\ttotal: 9.66ms\tremaining: 14.4s\n",
      "100:\ttotal: 1.06s\tremaining: 14.6s\n",
      "200:\ttotal: 2.13s\tremaining: 13.7s\n",
      "300:\ttotal: 3.17s\tremaining: 12.6s\n",
      "400:\ttotal: 4.2s\tremaining: 11.5s\n",
      "500:\ttotal: 5.24s\tremaining: 10.4s\n",
      "600:\ttotal: 6.26s\tremaining: 9.33s\n",
      "700:\ttotal: 7.28s\tremaining: 8.26s\n",
      "800:\ttotal: 8.64s\tremaining: 7.51s\n",
      "900:\ttotal: 9.95s\tremaining: 6.58s\n",
      "1000:\ttotal: 11s\tremaining: 5.46s\n",
      "1100:\ttotal: 12.1s\tremaining: 4.35s\n",
      "1200:\ttotal: 13.1s\tremaining: 3.24s\n",
      "1300:\ttotal: 14.2s\tremaining: 2.14s\n",
      "1400:\ttotal: 15.2s\tremaining: 1.04s\n",
      "1496:\ttotal: 16.2s\tremaining: 0us\n",
      "0.9445682149634369\n",
      "Average AUC: 0.9561\n"
     ]
    }
   ],
   "source": [
    "model_cat = CatBoostClassifier(\n",
    "    iterations=1497,\n",
    "    learning_rate=0.19862700515892123,\n",
    "    depth=3,\n",
    "    class_weights={0: 1, 1: 2.8609507839857535},  # Example of giving more weight to the minority class\n",
    "#    cat_features=cat_features,\n",
    "    border_count = 241,\n",
    "    eval_metric='AUC',           # Use AUC as the evaluation metric\n",
    "    random_seed=42,\n",
    "    verbose=100\n",
    ")\n",
    "\n",
    "# List to store AUC scores\n",
    "auc_scores = []\n",
    "\n",
    "# Cross-validation process\n",
    "for train_index, test_index in skf.split(X, y):\n",
    "    X_train, X_test = X.iloc[train_index], X.iloc[test_index]\n",
    "    y_train, y_test = y.iloc[train_index], y.iloc[test_index]\n",
    "    \n",
    "    # Train the model\n",
    "    model_cat.fit(X_train, y_train)\n",
    "    \n",
    "    # Get predicted probabilities for the positive class\n",
    "    y_prob = model_cat.predict_proba(X_test)[:, 1]\n",
    "    \n",
    "    # Calculate AUC\n",
    "    auc = roc_auc_score(y_test, y_prob)\n",
    "    print(auc)\n",
    "    auc_scores.append(auc)\n",
    "\n",
    "# Average AUC across all folds\n",
    "print(f\"Average AUC: {sum(auc_scores) / len(auc_scores):.4f}\")\n"
   ]
  },
  {
   "cell_type": "code",
   "execution_count": 49,
   "id": "5c04c9e5",
   "metadata": {
    "execution": {
     "iopub.execute_input": "2024-10-14T13:47:19.479094Z",
     "iopub.status.busy": "2024-10-14T13:47:19.478326Z",
     "iopub.status.idle": "2024-10-14T13:47:19.861896Z",
     "shell.execute_reply": "2024-10-14T13:47:19.860597Z"
    },
    "papermill": {
     "duration": 0.477905,
     "end_time": "2024-10-14T13:47:19.864804",
     "exception": false,
     "start_time": "2024-10-14T13:47:19.386899",
     "status": "completed"
    },
    "tags": []
   },
   "outputs": [
    {
     "name": "stdout",
     "output_type": "stream",
     "text": [
      "                       Feature  Importance\n",
      "1                person_income   24.048616\n",
      "5                   loan_grade   14.786409\n",
      "11                         dti   14.727852\n",
      "8          loan_percent_income   11.451784\n",
      "4                  loan_intent   11.159098\n",
      "2        person_home_ownership    9.238654\n",
      "7                loan_int_rate    5.569580\n",
      "0                   person_age    3.187504\n",
      "3            person_emp_length    2.440435\n",
      "6                    loan_amnt    2.354831\n",
      "10  cb_person_cred_hist_length    0.719753\n",
      "13          cred_hist_category    0.202942\n",
      "9    cb_person_default_on_file    0.072479\n",
      "12               emp_stability    0.040063\n"
     ]
    },
    {
     "data": {
      "image/png": "[encoded data removed]",
      "text/plain": [
       "<Figure size 1000x600 with 1 Axes>"
      ]
     },
     "metadata": {},
     "output_type": "display_data"
    }
   ],
   "source": [
    "import pandas as pd\n",
    "import matplotlib.pyplot as plt\n",
    "import seaborn as sns\n",
    "\n",
    "# Get feature importance\n",
    "feature_importance = model_cat.get_feature_importance()\n",
    "\n",
    "# Create a DataFrame to display feature importance\n",
    "importance_df = pd.DataFrame({\n",
    "    'Feature': X.columns,\n",
    "    'Importance': feature_importance\n",
    "})\n",
    "\n",
    "# Sort by importance\n",
    "importance_df = importance_df.sort_values(by='Importance', ascending=False)\n",
    "\n",
    "# Print feature importance\n",
    "print(importance_df)\n",
    "\n",
    "# Plot feature importance\n",
    "plt.figure(figsize=(10, 6))\n",
    "sns.barplot(x='Importance', y='Feature', data=importance_df.sort_values(by='Importance', ascending=True), palette='viridis')\n",
    "plt.xlabel('Importance')\n",
    "plt.title('Top 10 Features by Importance')\n",
    "plt.gca().invert_yaxis()  # Invert y-axis to have the most important feature on top\n",
    "plt.show()\n"
   ]
  },
  {
   "cell_type": "markdown",
   "id": "73b74f7b",
   "metadata": {
    "papermill": {
     "duration": 0.031981,
     "end_time": "2024-10-14T13:47:19.928221",
     "exception": false,
     "start_time": "2024-10-14T13:47:19.896240",
     "status": "completed"
    },
    "tags": []
   },
   "source": [
    "Optuna to find best hyperparametrs of model"
   ]
  },
  {
   "cell_type": "code",
   "execution_count": 50,
   "id": "52b630c9",
   "metadata": {
    "execution": {
     "iopub.execute_input": "2024-10-14T13:47:19.994145Z",
     "iopub.status.busy": "2024-10-14T13:47:19.993501Z",
     "iopub.status.idle": "2024-10-14T13:47:20.001537Z",
     "shell.execute_reply": "2024-10-14T13:47:20.000112Z"
    },
    "papermill": {
     "duration": 0.044249,
     "end_time": "2024-10-14T13:47:20.004143",
     "exception": false,
     "start_time": "2024-10-14T13:47:19.959894",
     "status": "completed"
    },
    "tags": []
   },
   "outputs": [],
   "source": [
    "# import pandas as pd\n",
    "# import optuna\n",
    "# from sklearn.ensemble import GradientBoostingClassifier\n",
    "# from sklearn.model_selection import StratifiedKFold\n",
    "# from sklearn.metrics import roc_auc_score\n",
    "\n",
    "# # Assuming X and y are your features and target variable\n",
    "# # Define StratifiedKFold\n",
    "# skf = StratifiedKFold(n_splits=5)\n",
    "\n",
    "# # Define the objective function for Optuna\n",
    "# def objective(trial):\n",
    "#     # Suggest hyperparameters\n",
    "#     n_estimators = trial.suggest_int('n_estimators', 50, 1000)  # Number of boosting iterations\n",
    "#     learning_rate = trial.suggest_float('learning_rate', 0.01, 0.3)  # Learning rate\n",
    "#     max_depth = trial.suggest_int('max_depth', 3, 6)  # Depth of the trees\n",
    "#     min_samples_split = trial.suggest_int('min_samples_split', 2, 20)  # Minimum samples to split a node\n",
    "#     min_samples_leaf = trial.suggest_int('min_samples_leaf', 1, 20)  # Minimum samples in leaf node\n",
    "\n",
    "#     # Model to train\n",
    "#     model_grb = GradientBoostingClassifier(\n",
    "#         n_estimators=n_estimators,\n",
    "#         learning_rate=learning_rate,\n",
    "#         max_depth=max_depth,\n",
    "#         min_samples_split=min_samples_split,\n",
    "#         min_samples_leaf=min_samples_leaf,\n",
    "#         random_state=42\n",
    "#     )\n",
    "\n",
    "#     # List to store AUC scores\n",
    "#     auc_scores = []\n",
    "\n",
    "#     # Cross-validation process\n",
    "#     for train_index, test_index in skf.split(X, y):\n",
    "#         X_train, X_test = X.iloc[train_index], X.iloc[test_index]\n",
    "#         y_train, y_test = y.iloc[train_index], y.iloc[test_index]\n",
    "\n",
    "#         # Train the model\n",
    "#         model_grb.fit(X_train, y_train)\n",
    "\n",
    "#         # Get predicted probabilities for the positive class\n",
    "#         y_prob = model_grb.predict_proba(X_test)[:, 1]\n",
    "\n",
    "#         # Calculate AUC\n",
    "#         auc = roc_auc_score(y_test, y_prob)\n",
    "#         auc_scores.append(auc)\n",
    "\n",
    "#     # Return the average AUC score across all folds\n",
    "#     return sum(auc_scores) / len(auc_scores)\n",
    "\n",
    "# # Create an Optuna study\n",
    "# study = optuna.create_study(direction='maximize')  # We want to maximize AUC\n",
    "\n",
    "# # Optimize the hyperparameters\n",
    "# study.optimize(objective, n_trials=100)  # Number of trials to perform\n",
    "\n",
    "# # Print the best hyperparameters and AUC score\n",
    "# print(\"Best hyperparameters: \", study.best_params)\n",
    "# print(\"Best AUC score: \", study.best_value)\n"
   ]
  },
  {
   "cell_type": "code",
   "execution_count": 51,
   "id": "751a93bc",
   "metadata": {
    "execution": {
     "iopub.execute_input": "2024-10-14T13:47:20.069300Z",
     "iopub.status.busy": "2024-10-14T13:47:20.068857Z",
     "iopub.status.idle": "2024-10-14T13:47:20.088878Z",
     "shell.execute_reply": "2024-10-14T13:47:20.087595Z"
    },
    "papermill": {
     "duration": 0.056815,
     "end_time": "2024-10-14T13:47:20.092371",
     "exception": false,
     "start_time": "2024-10-14T13:47:20.035556",
     "status": "completed"
    },
    "tags": []
   },
   "outputs": [
    {
     "data": {
      "text/html": [
       "<div>\n",
       "<style scoped>\n",
       "    .dataframe tbody tr th:only-of-type {\n",
       "        vertical-align: middle;\n",
       "    }\n",
       "\n",
       "    .dataframe tbody tr th {\n",
       "        vertical-align: top;\n",
       "    }\n",
       "\n",
       "    .dataframe thead th {\n",
       "        text-align: right;\n",
       "    }\n",
       "</style>\n",
       "<table border=\"1\" class=\"dataframe\">\n",
       "  <thead>\n",
       "    <tr style=\"text-align: right;\">\n",
       "      <th></th>\n",
       "      <th>person_age</th>\n",
       "      <th>person_income</th>\n",
       "      <th>person_home_ownership</th>\n",
       "      <th>person_emp_length</th>\n",
       "      <th>loan_intent</th>\n",
       "      <th>loan_grade</th>\n",
       "      <th>loan_amnt</th>\n",
       "      <th>loan_int_rate</th>\n",
       "      <th>loan_percent_income</th>\n",
       "      <th>cb_person_default_on_file</th>\n",
       "      <th>cb_person_cred_hist_length</th>\n",
       "      <th>loan_status</th>\n",
       "      <th>dti</th>\n",
       "      <th>emp_stability</th>\n",
       "      <th>cred_hist_category</th>\n",
       "    </tr>\n",
       "  </thead>\n",
       "  <tbody>\n",
       "    <tr>\n",
       "      <th>91214</th>\n",
       "      <td>23</td>\n",
       "      <td>69000</td>\n",
       "      <td>0</td>\n",
       "      <td>3.0</td>\n",
       "      <td>5</td>\n",
       "      <td>5</td>\n",
       "      <td>25000</td>\n",
       "      <td>15.76</td>\n",
       "      <td>0.36</td>\n",
       "      <td>0</td>\n",
       "      <td>2</td>\n",
       "      <td>NaN</td>\n",
       "      <td>0.362319</td>\n",
       "      <td>0</td>\n",
       "      <td>2</td>\n",
       "    </tr>\n",
       "    <tr>\n",
       "      <th>91215</th>\n",
       "      <td>26</td>\n",
       "      <td>96000</td>\n",
       "      <td>1</td>\n",
       "      <td>6.0</td>\n",
       "      <td>2</td>\n",
       "      <td>2</td>\n",
       "      <td>10000</td>\n",
       "      <td>12.68</td>\n",
       "      <td>0.10</td>\n",
       "      <td>1</td>\n",
       "      <td>4</td>\n",
       "      <td>NaN</td>\n",
       "      <td>0.104167</td>\n",
       "      <td>1</td>\n",
       "      <td>2</td>\n",
       "    </tr>\n",
       "    <tr>\n",
       "      <th>91216</th>\n",
       "      <td>26</td>\n",
       "      <td>30000</td>\n",
       "      <td>0</td>\n",
       "      <td>5.0</td>\n",
       "      <td>3</td>\n",
       "      <td>4</td>\n",
       "      <td>4000</td>\n",
       "      <td>17.19</td>\n",
       "      <td>0.13</td>\n",
       "      <td>1</td>\n",
       "      <td>2</td>\n",
       "      <td>NaN</td>\n",
       "      <td>0.133333</td>\n",
       "      <td>0</td>\n",
       "      <td>2</td>\n",
       "    </tr>\n",
       "    <tr>\n",
       "      <th>91217</th>\n",
       "      <td>33</td>\n",
       "      <td>50000</td>\n",
       "      <td>0</td>\n",
       "      <td>4.0</td>\n",
       "      <td>4</td>\n",
       "      <td>0</td>\n",
       "      <td>7000</td>\n",
       "      <td>8.90</td>\n",
       "      <td>0.14</td>\n",
       "      <td>0</td>\n",
       "      <td>7</td>\n",
       "      <td>NaN</td>\n",
       "      <td>0.140000</td>\n",
       "      <td>0</td>\n",
       "      <td>1</td>\n",
       "    </tr>\n",
       "    <tr>\n",
       "      <th>91218</th>\n",
       "      <td>26</td>\n",
       "      <td>102000</td>\n",
       "      <td>1</td>\n",
       "      <td>8.0</td>\n",
       "      <td>5</td>\n",
       "      <td>3</td>\n",
       "      <td>15000</td>\n",
       "      <td>16.32</td>\n",
       "      <td>0.15</td>\n",
       "      <td>1</td>\n",
       "      <td>4</td>\n",
       "      <td>NaN</td>\n",
       "      <td>0.147059</td>\n",
       "      <td>1</td>\n",
       "      <td>2</td>\n",
       "    </tr>\n",
       "  </tbody>\n",
       "</table>\n",
       "</div>"
      ],
      "text/plain": [
       "       person_age  person_income  person_home_ownership  person_emp_length  \\\n",
       "91214          23          69000                      0                3.0   \n",
       "91215          26          96000                      1                6.0   \n",
       "91216          26          30000                      0                5.0   \n",
       "91217          33          50000                      0                4.0   \n",
       "91218          26         102000                      1                8.0   \n",
       "\n",
       "       loan_intent  loan_grade  loan_amnt  loan_int_rate  loan_percent_income  \\\n",
       "91214            5           5      25000          15.76                 0.36   \n",
       "91215            2           2      10000          12.68                 0.10   \n",
       "91216            3           4       4000          17.19                 0.13   \n",
       "91217            4           0       7000           8.90                 0.14   \n",
       "91218            5           3      15000          16.32                 0.15   \n",
       "\n",
       "       cb_person_default_on_file  cb_person_cred_hist_length  loan_status  \\\n",
       "91214                          0                           2          NaN   \n",
       "91215                          1                           4          NaN   \n",
       "91216                          1                           2          NaN   \n",
       "91217                          0                           7          NaN   \n",
       "91218                          1                           4          NaN   \n",
       "\n",
       "            dti  emp_stability  cred_hist_category  \n",
       "91214  0.362319              0                   2  \n",
       "91215  0.104167              1                   2  \n",
       "91216  0.133333              0                   2  \n",
       "91217  0.140000              0                   1  \n",
       "91218  0.147059              1                   2  "
      ]
     },
     "execution_count": 51,
     "metadata": {},
     "output_type": "execute_result"
    }
   ],
   "source": [
    "test_df.head()"
   ]
  },
  {
   "cell_type": "code",
   "execution_count": 52,
   "id": "8032876c",
   "metadata": {
    "execution": {
     "iopub.execute_input": "2024-10-14T13:47:20.159398Z",
     "iopub.status.busy": "2024-10-14T13:47:20.158973Z",
     "iopub.status.idle": "2024-10-14T13:47:20.168708Z",
     "shell.execute_reply": "2024-10-14T13:47:20.167318Z"
    },
    "papermill": {
     "duration": 0.046447,
     "end_time": "2024-10-14T13:47:20.171535",
     "exception": false,
     "start_time": "2024-10-14T13:47:20.125088",
     "status": "completed"
    },
    "tags": []
   },
   "outputs": [],
   "source": [
    "test_df = test_df.drop('loan_status', axis=1)"
   ]
  },
  {
   "cell_type": "code",
   "execution_count": 53,
   "id": "ea193d4a",
   "metadata": {
    "execution": {
     "iopub.execute_input": "2024-10-14T13:47:20.237276Z",
     "iopub.status.busy": "2024-10-14T13:47:20.236833Z",
     "iopub.status.idle": "2024-10-14T13:47:20.308415Z",
     "shell.execute_reply": "2024-10-14T13:47:20.307153Z"
    },
    "papermill": {
     "duration": 0.107452,
     "end_time": "2024-10-14T13:47:20.310956",
     "exception": false,
     "start_time": "2024-10-14T13:47:20.203504",
     "status": "completed"
    },
    "tags": []
   },
   "outputs": [],
   "source": [
    "test_predictions = model_cat.predict_proba(test_df)[:, 1]"
   ]
  },
  {
   "cell_type": "code",
   "execution_count": 54,
   "id": "151b9929",
   "metadata": {
    "execution": {
     "iopub.execute_input": "2024-10-14T13:47:20.378207Z",
     "iopub.status.busy": "2024-10-14T13:47:20.377780Z",
     "iopub.status.idle": "2024-10-14T13:47:20.385305Z",
     "shell.execute_reply": "2024-10-14T13:47:20.384065Z"
    },
    "papermill": {
     "duration": 0.043392,
     "end_time": "2024-10-14T13:47:20.388209",
     "exception": false,
     "start_time": "2024-10-14T13:47:20.344817",
     "status": "completed"
    },
    "tags": []
   },
   "outputs": [
    {
     "data": {
      "text/plain": [
       "array([0.99995807, 0.09253613, 0.81645102, ..., 0.02533474, 0.62942774,\n",
       "       0.98394892])"
      ]
     },
     "execution_count": 54,
     "metadata": {},
     "output_type": "execute_result"
    }
   ],
   "source": [
    "test_predictions"
   ]
  },
  {
   "cell_type": "code",
   "execution_count": 55,
   "id": "94377e31",
   "metadata": {
    "execution": {
     "iopub.execute_input": "2024-10-14T13:47:20.454169Z",
     "iopub.status.busy": "2024-10-14T13:47:20.453691Z",
     "iopub.status.idle": "2024-10-14T13:47:20.586143Z",
     "shell.execute_reply": "2024-10-14T13:47:20.584714Z"
    },
    "papermill": {
     "duration": 0.168103,
     "end_time": "2024-10-14T13:47:20.588879",
     "exception": false,
     "start_time": "2024-10-14T13:47:20.420776",
     "status": "completed"
    },
    "tags": []
   },
   "outputs": [
    {
     "data": {
      "text/html": [
       "<div>\n",
       "<style scoped>\n",
       "    .dataframe tbody tr th:only-of-type {\n",
       "        vertical-align: middle;\n",
       "    }\n",
       "\n",
       "    .dataframe tbody tr th {\n",
       "        vertical-align: top;\n",
       "    }\n",
       "\n",
       "    .dataframe thead th {\n",
       "        text-align: right;\n",
       "    }\n",
       "</style>\n",
       "<table border=\"1\" class=\"dataframe\">\n",
       "  <thead>\n",
       "    <tr style=\"text-align: right;\">\n",
       "      <th></th>\n",
       "      <th>id</th>\n",
       "      <th>loan_status</th>\n",
       "    </tr>\n",
       "  </thead>\n",
       "  <tbody>\n",
       "    <tr>\n",
       "      <th>0</th>\n",
       "      <td>58645</td>\n",
       "      <td>0.999958</td>\n",
       "    </tr>\n",
       "    <tr>\n",
       "      <th>1</th>\n",
       "      <td>58646</td>\n",
       "      <td>0.092536</td>\n",
       "    </tr>\n",
       "    <tr>\n",
       "      <th>2</th>\n",
       "      <td>58647</td>\n",
       "      <td>0.816451</td>\n",
       "    </tr>\n",
       "    <tr>\n",
       "      <th>3</th>\n",
       "      <td>58648</td>\n",
       "      <td>0.022231</td>\n",
       "    </tr>\n",
       "    <tr>\n",
       "      <th>4</th>\n",
       "      <td>58649</td>\n",
       "      <td>0.199219</td>\n",
       "    </tr>\n",
       "  </tbody>\n",
       "</table>\n",
       "</div>"
      ],
      "text/plain": [
       "      id  loan_status\n",
       "0  58645     0.999958\n",
       "1  58646     0.092536\n",
       "2  58647     0.816451\n",
       "3  58648     0.022231\n",
       "4  58649     0.199219"
      ]
     },
     "execution_count": 55,
     "metadata": {},
     "output_type": "execute_result"
    }
   ],
   "source": [
    "submission = pd.read_csv('/kaggle/input/playground-series-s4e10/sample_submission.csv')\n",
    "submission['loan_status'] = test_predictions\n",
    "submission.to_csv('submission.csv', index=False)\n",
    "submission.head()"
   ]
  }
 ],
 "metadata": {
  "kaggle": {
   "accelerator": "none",
   "dataSources": [
    {
     "databundleVersionId": 9709193,
     "sourceId": 84894,
     "sourceType": "competition"
    },
    {
     "datasetId": 5830342,
     "sourceId": 9566231,
     "sourceType": "datasetVersion"
    }
   ],
   "dockerImageVersionId": 30786,
   "isGpuEnabled": false,
   "isInternetEnabled": true,
   "language": "python",
   "sourceType": "notebook"
  },
  "kernelspec": {
   "display_name": "Python 3",
   "language": "python",
   "name": "python3"
  },
  "language_info": {
   "codemirror_mode": {
    "name": "ipython",
    "version": 3
   },
   "file_extension": ".py",
   "mimetype": "text/x-python",
   "name": "python",
   "nbconvert_exporter": "python",
   "pygments_lexer": "ipython3",
   "version": "3.10.14"
  },
  "papermill": {
   "default_parameters": {},
   "duration": 1097.419862,
   "end_time": "2024-10-14T13:47:22.145647",
   "environment_variables": {},
   "exception": null,
   "input_path": "__notebook__.ipynb",
   "output_path": "__notebook__.ipynb",
   "parameters": {},
   "start_time": "2024-10-14T13:29:04.725785",
   "version": "2.6.0"
  }
 },
 "nbformat": 4,
 "nbformat_minor": 5
}
